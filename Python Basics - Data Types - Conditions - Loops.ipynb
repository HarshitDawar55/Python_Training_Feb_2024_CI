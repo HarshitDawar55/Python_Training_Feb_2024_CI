{
 "cells": [
  {
   "cell_type": "code",
   "execution_count": 1,
   "id": "19bace4d-b2e2-415f-89ec-8f8b57d0af05",
   "metadata": {},
   "outputs": [],
   "source": [
    "list1 = [1, 2, 3, 4, 5]"
   ]
  },
  {
   "cell_type": "code",
   "execution_count": 2,
   "id": "3daab127-0884-424e-8f16-59711f80356a",
   "metadata": {},
   "outputs": [
    {
     "data": {
      "text/plain": [
       "[1, 2, 3, 4, 5]"
      ]
     },
     "execution_count": 2,
     "metadata": {},
     "output_type": "execute_result"
    }
   ],
   "source": [
    "list1"
   ]
  },
  {
   "cell_type": "code",
   "execution_count": 3,
   "id": "fa9e26d8-2134-44de-acdd-b6a7302d6123",
   "metadata": {},
   "outputs": [],
   "source": [
    "list1.append(6)"
   ]
  },
  {
   "cell_type": "code",
   "execution_count": 4,
   "id": "149cb3f7-2422-4a19-b796-fcc58c9eae6a",
   "metadata": {},
   "outputs": [
    {
     "data": {
      "text/plain": [
       "[1, 2, 3, 4, 5, 6]"
      ]
     },
     "execution_count": 4,
     "metadata": {},
     "output_type": "execute_result"
    }
   ],
   "source": [
    "list1"
   ]
  },
  {
   "cell_type": "code",
   "execution_count": 5,
   "id": "27929210-4077-401c-89f0-1c0ea02dd89f",
   "metadata": {},
   "outputs": [
    {
     "data": {
      "text/plain": [
       "1"
      ]
     },
     "execution_count": 5,
     "metadata": {},
     "output_type": "execute_result"
    }
   ],
   "source": [
    "list1[0]"
   ]
  },
  {
   "cell_type": "code",
   "execution_count": 6,
   "id": "80ec14e7-f8e5-471d-bdd0-0d67e6386b0e",
   "metadata": {},
   "outputs": [],
   "source": [
    "list1[0] = 10"
   ]
  },
  {
   "cell_type": "code",
   "execution_count": 7,
   "id": "afb2c9e2-2f8c-40d0-b426-035ea4af5206",
   "metadata": {},
   "outputs": [
    {
     "data": {
      "text/plain": [
       "[10, 2, 3, 4, 5, 6]"
      ]
     },
     "execution_count": 7,
     "metadata": {},
     "output_type": "execute_result"
    }
   ],
   "source": [
    "list1"
   ]
  },
  {
   "cell_type": "code",
   "execution_count": 8,
   "id": "82538c53-961e-4739-b117-f2319152ff79",
   "metadata": {},
   "outputs": [],
   "source": [
    "list1.insert(0, 1)"
   ]
  },
  {
   "cell_type": "code",
   "execution_count": 9,
   "id": "d25beefc-a322-422c-b076-a55ccb765bec",
   "metadata": {},
   "outputs": [
    {
     "data": {
      "text/plain": [
       "[1, 10, 2, 3, 4, 5, 6]"
      ]
     },
     "execution_count": 9,
     "metadata": {},
     "output_type": "execute_result"
    }
   ],
   "source": [
    "list1"
   ]
  },
  {
   "cell_type": "code",
   "execution_count": 10,
   "id": "59071e57-b7be-4010-8986-b44f9f0a8406",
   "metadata": {},
   "outputs": [],
   "source": [
    "tuple1 = (1,2,3,4,5)"
   ]
  },
  {
   "cell_type": "code",
   "execution_count": 11,
   "id": "b11ac6f3-d55c-42bd-b18e-9d9337caa8f3",
   "metadata": {},
   "outputs": [
    {
     "data": {
      "text/plain": [
       "(1, 2, 3, 4, 5)"
      ]
     },
     "execution_count": 11,
     "metadata": {},
     "output_type": "execute_result"
    }
   ],
   "source": [
    "tuple1"
   ]
  },
  {
   "cell_type": "code",
   "execution_count": 12,
   "id": "a85d9cb4-ee62-44c5-a41b-338cd7a16c37",
   "metadata": {},
   "outputs": [
    {
     "ename": "TypeError",
     "evalue": "'tuple' object does not support item assignment",
     "output_type": "error",
     "traceback": [
      "\u001b[1;31m---------------------------------------------------------------------------\u001b[0m",
      "\u001b[1;31mTypeError\u001b[0m                                 Traceback (most recent call last)",
      "Cell \u001b[1;32mIn[12], line 1\u001b[0m\n\u001b[1;32m----> 1\u001b[0m tuple1[\u001b[38;5;241m0\u001b[39m] \u001b[38;5;241m=\u001b[39m \u001b[38;5;241m10\u001b[39m\n",
      "\u001b[1;31mTypeError\u001b[0m: 'tuple' object does not support item assignment"
     ]
    }
   ],
   "source": [
    "tuple1[0] = 10"
   ]
  },
  {
   "cell_type": "code",
   "execution_count": 16,
   "id": "abc3826c-6ce8-46d3-b163-ee339cc97cca",
   "metadata": {},
   "outputs": [],
   "source": [
    "tuple2 = list(tuple1)"
   ]
  },
  {
   "cell_type": "code",
   "execution_count": 17,
   "id": "6d185d51-6b8d-431d-9643-972e3c8e4e55",
   "metadata": {},
   "outputs": [
    {
     "data": {
      "text/plain": [
       "[1, 2, 3, 4, 5]"
      ]
     },
     "execution_count": 17,
     "metadata": {},
     "output_type": "execute_result"
    }
   ],
   "source": [
    "tuple2"
   ]
  },
  {
   "cell_type": "code",
   "execution_count": 18,
   "id": "4022f44e-b8b0-4232-a0e9-34792b435c3b",
   "metadata": {},
   "outputs": [],
   "source": [
    "tuple2[0] = 10"
   ]
  },
  {
   "cell_type": "code",
   "execution_count": 19,
   "id": "a6d36558-2eb9-4d8b-9242-9055877d699b",
   "metadata": {},
   "outputs": [
    {
     "data": {
      "text/plain": [
       "[10, 2, 3, 4, 5]"
      ]
     },
     "execution_count": 19,
     "metadata": {},
     "output_type": "execute_result"
    }
   ],
   "source": [
    "tuple2"
   ]
  },
  {
   "cell_type": "code",
   "execution_count": 20,
   "id": "8eec64bd-eb1b-4922-a320-547ded711871",
   "metadata": {},
   "outputs": [],
   "source": [
    "tuple1 = tuple(tuple2)"
   ]
  },
  {
   "cell_type": "code",
   "execution_count": 21,
   "id": "d085976b-d4aa-427a-8965-1e693324a617",
   "metadata": {},
   "outputs": [
    {
     "data": {
      "text/plain": [
       "(10, 2, 3, 4, 5)"
      ]
     },
     "execution_count": 21,
     "metadata": {},
     "output_type": "execute_result"
    }
   ],
   "source": [
    "tuple1"
   ]
  },
  {
   "cell_type": "code",
   "execution_count": 22,
   "id": "aa8fd734-5f63-4421-b585-01979084dd00",
   "metadata": {},
   "outputs": [
    {
     "ename": "TypeError",
     "evalue": "'tuple' object does not support item assignment",
     "output_type": "error",
     "traceback": [
      "\u001b[1;31m---------------------------------------------------------------------------\u001b[0m",
      "\u001b[1;31mTypeError\u001b[0m                                 Traceback (most recent call last)",
      "Cell \u001b[1;32mIn[22], line 1\u001b[0m\n\u001b[1;32m----> 1\u001b[0m tuple1[\u001b[38;5;241m0\u001b[39m] \u001b[38;5;241m=\u001b[39m \u001b[38;5;241m1\u001b[39m\n",
      "\u001b[1;31mTypeError\u001b[0m: 'tuple' object does not support item assignment"
     ]
    }
   ],
   "source": [
    "tuple1[0] = 1"
   ]
  },
  {
   "cell_type": "code",
   "execution_count": 23,
   "id": "0101b92b-47bd-4a72-8527-86e918fe4a4b",
   "metadata": {},
   "outputs": [
    {
     "data": {
      "text/plain": [
       "[1, 10, 2, 3, 4, 5, 6]"
      ]
     },
     "execution_count": 23,
     "metadata": {},
     "output_type": "execute_result"
    }
   ],
   "source": [
    "list1"
   ]
  },
  {
   "cell_type": "code",
   "execution_count": 24,
   "id": "64ac745f-923f-49db-84e7-3aac75c60369",
   "metadata": {},
   "outputs": [],
   "source": [
    "list1.append(\"Harshit Dawar\")"
   ]
  },
  {
   "cell_type": "code",
   "execution_count": 25,
   "id": "ea53d2a6-2cd6-4b17-848c-8fb61450559f",
   "metadata": {},
   "outputs": [
    {
     "data": {
      "text/plain": [
       "[1, 10, 2, 3, 4, 5, 6, 'Harshit Dawar']"
      ]
     },
     "execution_count": 25,
     "metadata": {},
     "output_type": "execute_result"
    }
   ],
   "source": [
    "list1"
   ]
  },
  {
   "cell_type": "code",
   "execution_count": 26,
   "id": "724cf85d-3f97-45fa-aabd-c344cbf17646",
   "metadata": {},
   "outputs": [],
   "source": [
    "list1.extend(\"Harshit Dawar\")"
   ]
  },
  {
   "cell_type": "code",
   "execution_count": null,
   "id": "e4dfec4b-fb22-4b90-9197-a6075199aeff",
   "metadata": {},
   "outputs": [],
   "source": []
  },
  {
   "cell_type": "code",
   "execution_count": 27,
   "id": "3d52e26e-76a1-455a-a92c-a451323d3cd7",
   "metadata": {},
   "outputs": [
    {
     "data": {
      "text/plain": [
       "[1,\n",
       " 10,\n",
       " 2,\n",
       " 3,\n",
       " 4,\n",
       " 5,\n",
       " 6,\n",
       " 'Harshit Dawar',\n",
       " 'H',\n",
       " 'a',\n",
       " 'r',\n",
       " 's',\n",
       " 'h',\n",
       " 'i',\n",
       " 't',\n",
       " ' ',\n",
       " 'D',\n",
       " 'a',\n",
       " 'w',\n",
       " 'a',\n",
       " 'r']"
      ]
     },
     "execution_count": 27,
     "metadata": {},
     "output_type": "execute_result"
    }
   ],
   "source": [
    "list1"
   ]
  },
  {
   "cell_type": "markdown",
   "id": "e70020f4-538a-41d0-9ffe-14c6b20011ff",
   "metadata": {},
   "source": [
    "## Dictionary"
   ]
  },
  {
   "cell_type": "code",
   "execution_count": 28,
   "id": "e351fe3f-c1ec-403d-9c5d-272921ba9fce",
   "metadata": {},
   "outputs": [],
   "source": [
    "modules_report = {\"Ashwini\" : [1,2,3,4,5,6],\n",
    "                  \"Afzal\" : [5,6,7,8,0,0]}"
   ]
  },
  {
   "cell_type": "code",
   "execution_count": 29,
   "id": "7495b52a-afce-4aa7-bcea-b1098bf0c178",
   "metadata": {},
   "outputs": [
    {
     "data": {
      "text/plain": [
       "{'Ashwini': [1, 2, 3, 4, 5, 6], 'Afzal': [5, 6, 7, 8, 0, 0]}"
      ]
     },
     "execution_count": 29,
     "metadata": {},
     "output_type": "execute_result"
    }
   ],
   "source": [
    "modules_report"
   ]
  },
  {
   "cell_type": "code",
   "execution_count": 30,
   "id": "62f4ad57-b01b-43b0-a095-741c2f01251d",
   "metadata": {},
   "outputs": [
    {
     "data": {
      "text/plain": [
       "[1, 2, 3, 4, 5, 6]"
      ]
     },
     "execution_count": 30,
     "metadata": {},
     "output_type": "execute_result"
    }
   ],
   "source": [
    "modules_report[\"Ashwini\"]"
   ]
  },
  {
   "cell_type": "markdown",
   "id": "b39db581-51cf-4636-b702-40640348a6ef",
   "metadata": {},
   "source": [
    "## Set"
   ]
  },
  {
   "cell_type": "code",
   "execution_count": 31,
   "id": "00018848-c003-4c24-b107-dd682dca4837",
   "metadata": {},
   "outputs": [
    {
     "data": {
      "text/plain": [
       "[1, 2, 3, 4, 5, 1, 2, 3, 4, 5, 1, 2, 3, 4, 5, 1, 2, 3, 4, 5, 1, 2, 3, 4, 5]"
      ]
     },
     "execution_count": 31,
     "metadata": {},
     "output_type": "execute_result"
    }
   ],
   "source": [
    "l = [1,2,3,4,5, 1,2,3,4,5, 1,2,3,4,5, 1,2,3,4,5, 1,2,3,4,5]\n",
    "l"
   ]
  },
  {
   "cell_type": "code",
   "execution_count": 36,
   "id": "53b6715d-a384-418c-bd29-d5f2b3cfacd4",
   "metadata": {},
   "outputs": [],
   "source": [
    "myset = set([1,2,3,4,5, 1,2,3,4,5, 1,2,3,4,5, 1,2,3,4,5, 1,2,3,4,5, 1,2,3, 4, 5])"
   ]
  },
  {
   "cell_type": "code",
   "execution_count": 37,
   "id": "058ed1e6-2df2-4595-a9b3-ce899b48e4c1",
   "metadata": {},
   "outputs": [
    {
     "data": {
      "text/plain": [
       "{1, 2, 3, 4, 5}"
      ]
     },
     "execution_count": 37,
     "metadata": {},
     "output_type": "execute_result"
    }
   ],
   "source": [
    "myset"
   ]
  },
  {
   "cell_type": "code",
   "execution_count": 34,
   "id": "0958a096-7410-4d27-b281-3119617a105c",
   "metadata": {},
   "outputs": [],
   "source": [
    "myset1 = set(l)"
   ]
  },
  {
   "cell_type": "code",
   "execution_count": 38,
   "id": "937af91d-5309-47fc-97cf-8b474d6b3a15",
   "metadata": {},
   "outputs": [
    {
     "data": {
      "text/plain": [
       "{1, 2, 3, 4, 5}"
      ]
     },
     "execution_count": 38,
     "metadata": {},
     "output_type": "execute_result"
    }
   ],
   "source": [
    "myset1"
   ]
  },
  {
   "cell_type": "code",
   "execution_count": 39,
   "id": "427f4b5f-7733-46b5-9a64-005aa48ae098",
   "metadata": {},
   "outputs": [],
   "source": [
    "l.remove(4)"
   ]
  },
  {
   "cell_type": "code",
   "execution_count": 40,
   "id": "788607b3-602b-4662-9a18-4e1508f171bc",
   "metadata": {},
   "outputs": [
    {
     "data": {
      "text/plain": [
       "[1, 2, 3, 5, 1, 2, 3, 4, 5, 1, 2, 3, 4, 5, 1, 2, 3, 4, 5, 1, 2, 3, 4, 5]"
      ]
     },
     "execution_count": 40,
     "metadata": {},
     "output_type": "execute_result"
    }
   ],
   "source": [
    "l"
   ]
  },
  {
   "cell_type": "code",
   "execution_count": 41,
   "id": "23f7dec3-d5c4-484a-b1eb-30817b59fd74",
   "metadata": {},
   "outputs": [],
   "source": [
    "myset1.add(6)"
   ]
  },
  {
   "cell_type": "code",
   "execution_count": 42,
   "id": "87b4da63-c1b8-47b3-b9c4-10671f2d38b9",
   "metadata": {},
   "outputs": [
    {
     "data": {
      "text/plain": [
       "{1, 2, 3, 4, 5, 6}"
      ]
     },
     "execution_count": 42,
     "metadata": {},
     "output_type": "execute_result"
    }
   ],
   "source": [
    "myset1"
   ]
  },
  {
   "cell_type": "code",
   "execution_count": 43,
   "id": "b1a3bc1b-ac2a-4588-9d4e-9e8c6a2ecff7",
   "metadata": {},
   "outputs": [],
   "source": [
    "myset1.add(6)"
   ]
  },
  {
   "cell_type": "code",
   "execution_count": 44,
   "id": "02a3de78-1169-48c6-a43f-128a0ca0ce4a",
   "metadata": {},
   "outputs": [
    {
     "data": {
      "text/plain": [
       "{1, 2, 3, 4, 5, 6}"
      ]
     },
     "execution_count": 44,
     "metadata": {},
     "output_type": "execute_result"
    }
   ],
   "source": [
    "myset1"
   ]
  },
  {
   "cell_type": "code",
   "execution_count": 49,
   "id": "a6d1b18a-64bf-400b-aac7-ac527f069760",
   "metadata": {},
   "outputs": [],
   "source": [
    "myset1.add(6)"
   ]
  },
  {
   "cell_type": "code",
   "execution_count": 50,
   "id": "8032a2fc-5b45-409d-b0ee-679e274441c9",
   "metadata": {},
   "outputs": [
    {
     "data": {
      "text/plain": [
       "{1, 2, 3, 4, 5, 6}"
      ]
     },
     "execution_count": 50,
     "metadata": {},
     "output_type": "execute_result"
    }
   ],
   "source": [
    "myset1"
   ]
  },
  {
   "cell_type": "markdown",
   "id": "dfc22a85-8850-44db-b089-ba4948ba30d4",
   "metadata": {},
   "source": [
    "## Loops\n",
    "* **While:** When we know when to terminate / termination condition is known to us!\n",
    "* **For:** When we don't know when to terminate / termination condition is not known to us!"
   ]
  },
  {
   "cell_type": "code",
   "execution_count": 51,
   "id": "cd7391f3-d63c-4b2e-a9a0-6558cb3fa0bd",
   "metadata": {},
   "outputs": [
    {
     "data": {
      "text/plain": [
       "[1, 2, 3, 5, 1, 2, 3, 4, 5, 1, 2, 3, 4, 5, 1, 2, 3, 4, 5, 1, 2, 3, 4, 5]"
      ]
     },
     "execution_count": 51,
     "metadata": {},
     "output_type": "execute_result"
    }
   ],
   "source": [
    "l"
   ]
  },
  {
   "cell_type": "code",
   "execution_count": 57,
   "id": "63ee39f5-32bd-4cc1-a44a-e18be3da34b4",
   "metadata": {},
   "outputs": [],
   "source": [
    "l[-1] = 3"
   ]
  },
  {
   "cell_type": "code",
   "execution_count": 58,
   "id": "bc6e0332-a557-4c3a-a405-4ab2c997f058",
   "metadata": {},
   "outputs": [
    {
     "data": {
      "text/plain": [
       "[1, 2, 3, 5, 1, 2, 3, 4, 5, 1, 2, 3, 4, 5, 1, 2, 3, 4, 5, 1, 2, 3, 4, 3]"
      ]
     },
     "execution_count": 58,
     "metadata": {},
     "output_type": "execute_result"
    }
   ],
   "source": [
    "l"
   ]
  },
  {
   "cell_type": "code",
   "execution_count": 52,
   "id": "54a63bd2-de49-4dfd-89ef-cc7cefb0f79e",
   "metadata": {},
   "outputs": [
    {
     "name": "stdout",
     "output_type": "stream",
     "text": [
      "3 Found\n",
      "3 Found\n",
      "3 Found\n",
      "3 Found\n",
      "3 Found\n"
     ]
    }
   ],
   "source": [
    "for item in l:\n",
    "    if item == 3:\n",
    "        print(\"3 Found\")"
   ]
  },
  {
   "cell_type": "code",
   "execution_count": 65,
   "id": "c7b42a37-e522-4604-a0bb-1d1b566a8d55",
   "metadata": {},
   "outputs": [
    {
     "data": {
      "text/plain": [
       "[4, 3]"
      ]
     },
     "execution_count": 65,
     "metadata": {},
     "output_type": "execute_result"
    }
   ],
   "source": [
    "l[-2 : ]"
   ]
  },
  {
   "cell_type": "code",
   "execution_count": 54,
   "id": "29bfe990-6791-4fa2-be03-3d10ee75df4f",
   "metadata": {},
   "outputs": [
    {
     "data": {
      "text/plain": [
       "24"
      ]
     },
     "execution_count": 54,
     "metadata": {},
     "output_type": "execute_result"
    }
   ],
   "source": [
    "len(l)"
   ]
  },
  {
   "cell_type": "code",
   "execution_count": 59,
   "id": "b5e9a418-de33-42b9-8f7c-98dc394161f2",
   "metadata": {},
   "outputs": [
    {
     "name": "stdout",
     "output_type": "stream",
     "text": [
      "3 Found\n",
      "3 Found\n",
      "3 Found\n",
      "3 Found\n",
      "3 Found\n",
      "3 Found\n"
     ]
    }
   ],
   "source": [
    "counter = 0\n",
    "while counter < len(l):\n",
    "    if l[counter] == 3:\n",
    "        print(\"3 Found\")\n",
    "    counter += 1"
   ]
  },
  {
   "cell_type": "markdown",
   "id": "f62626fe-fc76-4571-b398-9a17c44fa5a0",
   "metadata": {},
   "source": [
    "## Word Count"
   ]
  },
  {
   "cell_type": "code",
   "execution_count": 88,
   "id": "3a6d747f-e3d6-4814-8226-2537929e317d",
   "metadata": {},
   "outputs": [],
   "source": [
    "sentence = \"I am Harshit Dawar, and I am delivering the training on Python Python is the easiset language, everyone should know Python\""
   ]
  },
  {
   "cell_type": "code",
   "execution_count": 89,
   "id": "b274fe79-1465-477a-911b-81f00ab0bfb4",
   "metadata": {},
   "outputs": [
    {
     "data": {
      "text/plain": [
       "'I am Harshit Dawar, and I am delivering the training on Python Python is the easiset language, everyone should know Python'"
      ]
     },
     "execution_count": 89,
     "metadata": {},
     "output_type": "execute_result"
    }
   ],
   "source": [
    "sentence"
   ]
  },
  {
   "cell_type": "code",
   "execution_count": 90,
   "id": "d71d581e-198b-43ec-8d39-04798368496e",
   "metadata": {},
   "outputs": [],
   "source": [
    "word_count = {}"
   ]
  },
  {
   "cell_type": "code",
   "execution_count": 91,
   "id": "03203167-6591-48d8-a509-e3203a7e5d30",
   "metadata": {},
   "outputs": [],
   "source": [
    "for word in sentence.split():\n",
    "    if word not in word_count.keys():\n",
    "        word_count[word] = 1\n",
    "    else:\n",
    "        word_count[word] = word_count[word] + 1"
   ]
  },
  {
   "cell_type": "code",
   "execution_count": 92,
   "id": "e8e9ca86-b9e0-45da-b14c-79d969e610ee",
   "metadata": {},
   "outputs": [
    {
     "data": {
      "text/plain": [
       "{'I': 2,\n",
       " 'am': 2,\n",
       " 'Harshit': 1,\n",
       " 'Dawar,': 1,\n",
       " 'and': 1,\n",
       " 'delivering': 1,\n",
       " 'the': 2,\n",
       " 'training': 1,\n",
       " 'on': 1,\n",
       " 'Python': 3,\n",
       " 'is': 1,\n",
       " 'easiset': 1,\n",
       " 'language,': 1,\n",
       " 'everyone': 1,\n",
       " 'should': 1,\n",
       " 'know': 1}"
      ]
     },
     "execution_count": 92,
     "metadata": {},
     "output_type": "execute_result"
    }
   ],
   "source": [
    "word_count"
   ]
  },
  {
   "cell_type": "code",
   "execution_count": 70,
   "id": "4ec7eee7-f7ae-4163-b2c5-a0726e8ad559",
   "metadata": {},
   "outputs": [
    {
     "data": {
      "text/plain": [
       "{'Ashwini': [1, 2, 3, 4, 5, 6], 'Afzal': [5, 6, 7, 8, 0, 0]}"
      ]
     },
     "execution_count": 70,
     "metadata": {},
     "output_type": "execute_result"
    }
   ],
   "source": [
    "modules_report"
   ]
  },
  {
   "cell_type": "code",
   "execution_count": 71,
   "id": "9a6b7e63-448a-47e4-b3bd-24b666fe9c6a",
   "metadata": {},
   "outputs": [
    {
     "data": {
      "text/plain": [
       "dict_keys(['Ashwini', 'Afzal'])"
      ]
     },
     "execution_count": 71,
     "metadata": {},
     "output_type": "execute_result"
    }
   ],
   "source": [
    "modules_report.keys()"
   ]
  },
  {
   "cell_type": "code",
   "execution_count": null,
   "id": "218588a7-1a15-440e-8e9b-12009294c880",
   "metadata": {},
   "outputs": [],
   "source": []
  }
 ],
 "metadata": {
  "kernelspec": {
   "display_name": "Python 3 (ipykernel)",
   "language": "python",
   "name": "python3"
  },
  "language_info": {
   "codemirror_mode": {
    "name": "ipython",
    "version": 3
   },
   "file_extension": ".py",
   "mimetype": "text/x-python",
   "name": "python",
   "nbconvert_exporter": "python",
   "pygments_lexer": "ipython3",
   "version": "3.10.9"
  }
 },
 "nbformat": 4,
 "nbformat_minor": 5
}

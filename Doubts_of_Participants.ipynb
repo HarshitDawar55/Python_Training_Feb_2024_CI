{
 "cells": [
  {
   "cell_type": "code",
   "execution_count": 2,
   "id": "24462086-3507-4d18-8198-f808f17919a9",
   "metadata": {},
   "outputs": [
    {
     "name": "stdin",
     "output_type": "stream",
     "text": [
      "Enter Salary for the Employee number 1 10000\n",
      "Enter Salary for the Employee number 2 20000\n",
      "Enter Salary for the Employee number 3 30000\n",
      "Enter Salary for the Employee number 4 40000\n",
      "Enter Salary for the Employee number 5 50000\n"
     ]
    },
    {
     "name": "stdout",
     "output_type": "stream",
     "text": [
      "Total Salary is: 150000\n"
     ]
    }
   ],
   "source": [
    "salaries = []\n",
    "for salary in range(5):\n",
    "    salaries.append(int(input(\"Enter Salary for the Employee number {}\".format(salary + 1))))\n",
    "total_salary = sum(salaries)\n",
    "print(\"Total Salary is: {}\".format(total_salary))"
   ]
  },
  {
   "cell_type": "code",
   "execution_count": 3,
   "id": "a3678b1e-b629-4b59-94cf-860d4b7a5e1b",
   "metadata": {},
   "outputs": [
    {
     "data": {
      "text/plain": [
       "[10000, 20000, 30000, 40000, 50000]"
      ]
     },
     "execution_count": 3,
     "metadata": {},
     "output_type": "execute_result"
    }
   ],
   "source": [
    "salaries"
   ]
  },
  {
   "cell_type": "code",
   "execution_count": 6,
   "id": "1bac60b6-5b7c-4ca1-8c40-d7aa94e0d197",
   "metadata": {},
   "outputs": [
    {
     "name": "stdin",
     "output_type": "stream",
     "text": [
      "Enter Salary for the Employee number 1: 10000\n",
      "Enter Salary for the Employee number 2: 20000\n",
      "Enter Salary for the Employee number 3: 30000\n",
      "Enter Salary for the Employee number 4: 40000\n",
      "Enter Salary for the Employee number 5: 50000\n"
     ]
    },
    {
     "name": "stdout",
     "output_type": "stream",
     "text": [
      "Total Salary is: 150000\n"
     ]
    }
   ],
   "source": [
    "salaries = []\n",
    "employees = 0\n",
    "while employees < 5:\n",
    "    salaries.append(int(input(f\"Enter Salary for the Employee number {employees + 1}:\")))\n",
    "    employees = employees + 1\n",
    "total_salary = sum(salaries)\n",
    "print(f\"Total Salary is: {total_salary}\")"
   ]
  },
  {
   "cell_type": "code",
   "execution_count": 9,
   "id": "5b590aed-559f-4cbf-8db2-05f70861bae4",
   "metadata": {},
   "outputs": [
    {
     "name": "stdin",
     "output_type": "stream",
     "text": [
      "Enter Salary for the Employee number 1: 10000\n",
      "Enter Salary for the Employee number 2: 20000\n",
      "Enter Salary for the Employee number 3: 30000\n",
      "Enter Salary for the Employee number 4: 30000\n",
      "Enter Salary for the Employee number 5: 35000\n",
      "Enter Salary for the Employee number 6: 40000\n",
      "Enter Salary for the Employee number 7: 50000\n",
      "Enter Salary for the Employee number 8: 0\n"
     ]
    },
    {
     "name": "stdout",
     "output_type": "stream",
     "text": [
      "Total Salary is: 215000\n"
     ]
    }
   ],
   "source": [
    "total_salary = 0\n",
    "employee = 0\n",
    "while True:\n",
    "    # This loop will break when the user enters 0\n",
    "    salary = int(input(f\"Enter Salary for the Employee number {employee + 1}:\"))\n",
    "    if salary == 0:\n",
    "        break\n",
    "    else:\n",
    "        total_salary = total_salary + salary\n",
    "    employee = employee + 1\n",
    "print(f\"Total Salary is: {total_salary}\")"
   ]
  },
  {
   "cell_type": "code",
   "execution_count": null,
   "id": "e853881e-0d0c-489d-8e1c-d0030d45147b",
   "metadata": {},
   "outputs": [],
   "source": []
  }
 ],
 "metadata": {
  "kernelspec": {
   "display_name": "Python 3 (ipykernel)",
   "language": "python",
   "name": "python3"
  },
  "language_info": {
   "codemirror_mode": {
    "name": "ipython",
    "version": 3
   },
   "file_extension": ".py",
   "mimetype": "text/x-python",
   "name": "python",
   "nbconvert_exporter": "python",
   "pygments_lexer": "ipython3",
   "version": "3.10.9"
  }
 },
 "nbformat": 4,
 "nbformat_minor": 5
}

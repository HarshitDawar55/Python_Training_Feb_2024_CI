{
 "cells": [
  {
   "cell_type": "markdown",
   "id": "b15cfd3b-ed4c-4a6f-8018-64f6427aaa89",
   "metadata": {},
   "source": [
    "# Functions in Python - Training by `Mr. Harshit Dawar!`"
   ]
  },
  {
   "cell_type": "code",
   "execution_count": 1,
   "id": "cf8c6af8-4ade-41a6-8149-582abd660fff",
   "metadata": {},
   "outputs": [],
   "source": [
    "def add_2_numbers(n1, n2):\n",
    "    return n1 + n2"
   ]
  },
  {
   "cell_type": "code",
   "execution_count": 2,
   "id": "56b309ce-4e69-440e-9f00-fb0764581c57",
   "metadata": {},
   "outputs": [
    {
     "data": {
      "text/plain": [
       "3"
      ]
     },
     "execution_count": 2,
     "metadata": {},
     "output_type": "execute_result"
    }
   ],
   "source": [
    "add_2_numbers(1, 2)"
   ]
  },
  {
   "cell_type": "code",
   "execution_count": 17,
   "id": "b345ec80-7d47-46a5-a5bf-496686388621",
   "metadata": {},
   "outputs": [],
   "source": [
    "def search_for_5_in_list(l):\n",
    "    output = True\n",
    "    for item in l:\n",
    "        print(item)\n",
    "        if item == 5:\n",
    "            output = True\n",
    "            break\n",
    "        else:\n",
    "            output = False\n",
    "    return \"5 is there in the list? : {}\".format(output)"
   ]
  },
  {
   "cell_type": "code",
   "execution_count": 18,
   "id": "0b8a5948-23b0-457f-8e0c-dd3089bfbc86",
   "metadata": {},
   "outputs": [
    {
     "name": "stdout",
     "output_type": "stream",
     "text": [
      "1\n",
      "2\n",
      "3\n"
     ]
    },
    {
     "data": {
      "text/plain": [
       "'5 is there in the list? : False'"
      ]
     },
     "execution_count": 18,
     "metadata": {},
     "output_type": "execute_result"
    }
   ],
   "source": [
    "search_for_5_in_list([1,2,3])"
   ]
  },
  {
   "cell_type": "code",
   "execution_count": 19,
   "id": "8030effe-15de-4329-bf8f-771caca31a1d",
   "metadata": {},
   "outputs": [
    {
     "name": "stdout",
     "output_type": "stream",
     "text": [
      "1\n",
      "2\n",
      "3\n",
      "4\n",
      "5\n"
     ]
    },
    {
     "data": {
      "text/plain": [
       "'5 is there in the list? : True'"
      ]
     },
     "execution_count": 19,
     "metadata": {},
     "output_type": "execute_result"
    }
   ],
   "source": [
    "search_for_5_in_list([1, 2, 3, 4, 5])"
   ]
  },
  {
   "cell_type": "code",
   "execution_count": 20,
   "id": "4b00482a-6b8c-4ddd-8ad4-0cf7229c2b20",
   "metadata": {},
   "outputs": [
    {
     "name": "stdout",
     "output_type": "stream",
     "text": [
      "1\n",
      "2\n",
      "3\n",
      "4\n",
      "5\n"
     ]
    },
    {
     "data": {
      "text/plain": [
       "'5 is there in the list? : True'"
      ]
     },
     "execution_count": 20,
     "metadata": {},
     "output_type": "execute_result"
    }
   ],
   "source": [
    "search_for_5_in_list([1, 2, 3, 4, 5, 6, 7])"
   ]
  },
  {
   "cell_type": "markdown",
   "id": "e05b95e3-9220-4ec1-acf6-7518f6a8e452",
   "metadata": {},
   "source": [
    "## A Funtion to provide a random number"
   ]
  },
  {
   "cell_type": "code",
   "execution_count": 21,
   "id": "bbdccb42-07cc-4433-9984-2bc8546b1e8f",
   "metadata": {},
   "outputs": [],
   "source": [
    "import random"
   ]
  },
  {
   "cell_type": "code",
   "execution_count": 29,
   "id": "1db243f9-b7f1-4acc-b9f1-4a2df1528f28",
   "metadata": {},
   "outputs": [
    {
     "data": {
      "text/plain": [
       "48"
      ]
     },
     "execution_count": 29,
     "metadata": {},
     "output_type": "execute_result"
    }
   ],
   "source": [
    "random.randint(1, 50)"
   ]
  },
  {
   "cell_type": "code",
   "execution_count": 30,
   "id": "46705b1b-917c-4982-86ac-5a7a512f3f97",
   "metadata": {},
   "outputs": [],
   "source": [
    "def generate_random_number(min_value, max_value):\n",
    "    return random.randint(min_value, max_value)"
   ]
  },
  {
   "cell_type": "code",
   "execution_count": 35,
   "id": "ebe394d5-2593-4a16-927a-b54898dbe1f0",
   "metadata": {},
   "outputs": [
    {
     "data": {
      "text/plain": [
       "15"
      ]
     },
     "execution_count": 35,
     "metadata": {},
     "output_type": "execute_result"
    }
   ],
   "source": [
    "generate_random_number(1, 50)"
   ]
  },
  {
   "cell_type": "code",
   "execution_count": 36,
   "id": "23111484-51b2-48e7-92af-599d6189ec49",
   "metadata": {},
   "outputs": [],
   "source": [
    "characters = [\"A\", \"B\", \"C\", \"D\", \"E\"]"
   ]
  },
  {
   "cell_type": "code",
   "execution_count": null,
   "id": "7599b307-7752-4f22-88ef-7dbd0e71a9c8",
   "metadata": {},
   "outputs": [],
   "source": [
    "random.choice(ch"
   ]
  }
 ],
 "metadata": {
  "kernelspec": {
   "display_name": "Python 3 (ipykernel)",
   "language": "python",
   "name": "python3"
  },
  "language_info": {
   "codemirror_mode": {
    "name": "ipython",
    "version": 3
   },
   "file_extension": ".py",
   "mimetype": "text/x-python",
   "name": "python",
   "nbconvert_exporter": "python",
   "pygments_lexer": "ipython3",
   "version": "3.10.9"
  }
 },
 "nbformat": 4,
 "nbformat_minor": 5
}

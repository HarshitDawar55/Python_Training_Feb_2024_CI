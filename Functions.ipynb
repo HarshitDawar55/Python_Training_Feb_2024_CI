{
 "cells": [
  {
   "cell_type": "markdown",
   "id": "b15cfd3b-ed4c-4a6f-8018-64f6427aaa89",
   "metadata": {},
   "source": [
    "# Functions in Python - Training by `Mr. Harshit Dawar!`"
   ]
  },
  {
   "cell_type": "markdown",
   "id": "3a04f710-c169-4738-bec6-ca024476f0b4",
   "metadata": {
    "jp-MarkdownHeadingCollapsed": true
   },
   "source": [
    "## Basic Functions overview"
   ]
  },
  {
   "cell_type": "code",
   "execution_count": 1,
   "id": "cf8c6af8-4ade-41a6-8149-582abd660fff",
   "metadata": {},
   "outputs": [],
   "source": [
    "def add_2_numbers(n1, n2):\n",
    "    return n1 + n2"
   ]
  },
  {
   "cell_type": "code",
   "execution_count": 2,
   "id": "56b309ce-4e69-440e-9f00-fb0764581c57",
   "metadata": {},
   "outputs": [
    {
     "data": {
      "text/plain": [
       "3"
      ]
     },
     "execution_count": 2,
     "metadata": {},
     "output_type": "execute_result"
    }
   ],
   "source": [
    "add_2_numbers(1, 2)"
   ]
  },
  {
   "cell_type": "code",
   "execution_count": 17,
   "id": "b345ec80-7d47-46a5-a5bf-496686388621",
   "metadata": {},
   "outputs": [],
   "source": [
    "def search_for_5_in_list(l):\n",
    "    output = True\n",
    "    for item in l:\n",
    "        print(item)\n",
    "        if item == 5:\n",
    "            output = True\n",
    "            break\n",
    "        else:\n",
    "            output = False\n",
    "    return \"5 is there in the list? : {}\".format(output)"
   ]
  },
  {
   "cell_type": "code",
   "execution_count": 18,
   "id": "0b8a5948-23b0-457f-8e0c-dd3089bfbc86",
   "metadata": {},
   "outputs": [
    {
     "name": "stdout",
     "output_type": "stream",
     "text": [
      "1\n",
      "2\n",
      "3\n"
     ]
    },
    {
     "data": {
      "text/plain": [
       "'5 is there in the list? : False'"
      ]
     },
     "execution_count": 18,
     "metadata": {},
     "output_type": "execute_result"
    }
   ],
   "source": [
    "search_for_5_in_list([1,2,3])"
   ]
  },
  {
   "cell_type": "code",
   "execution_count": 19,
   "id": "8030effe-15de-4329-bf8f-771caca31a1d",
   "metadata": {},
   "outputs": [
    {
     "name": "stdout",
     "output_type": "stream",
     "text": [
      "1\n",
      "2\n",
      "3\n",
      "4\n",
      "5\n"
     ]
    },
    {
     "data": {
      "text/plain": [
       "'5 is there in the list? : True'"
      ]
     },
     "execution_count": 19,
     "metadata": {},
     "output_type": "execute_result"
    }
   ],
   "source": [
    "search_for_5_in_list([1, 2, 3, 4, 5])"
   ]
  },
  {
   "cell_type": "code",
   "execution_count": 20,
   "id": "4b00482a-6b8c-4ddd-8ad4-0cf7229c2b20",
   "metadata": {},
   "outputs": [
    {
     "name": "stdout",
     "output_type": "stream",
     "text": [
      "1\n",
      "2\n",
      "3\n",
      "4\n",
      "5\n"
     ]
    },
    {
     "data": {
      "text/plain": [
       "'5 is there in the list? : True'"
      ]
     },
     "execution_count": 20,
     "metadata": {},
     "output_type": "execute_result"
    }
   ],
   "source": [
    "search_for_5_in_list([1, 2, 3, 4, 5, 6, 7])"
   ]
  },
  {
   "cell_type": "markdown",
   "id": "e05b95e3-9220-4ec1-acf6-7518f6a8e452",
   "metadata": {
    "jp-MarkdownHeadingCollapsed": true
   },
   "source": [
    "## A Funtion to provide a random number"
   ]
  },
  {
   "cell_type": "code",
   "execution_count": 21,
   "id": "bbdccb42-07cc-4433-9984-2bc8546b1e8f",
   "metadata": {},
   "outputs": [],
   "source": [
    "import random"
   ]
  },
  {
   "cell_type": "code",
   "execution_count": 29,
   "id": "1db243f9-b7f1-4acc-b9f1-4a2df1528f28",
   "metadata": {},
   "outputs": [
    {
     "data": {
      "text/plain": [
       "48"
      ]
     },
     "execution_count": 29,
     "metadata": {},
     "output_type": "execute_result"
    }
   ],
   "source": [
    "random.randint(1, 50)"
   ]
  },
  {
   "cell_type": "code",
   "execution_count": 30,
   "id": "46705b1b-917c-4982-86ac-5a7a512f3f97",
   "metadata": {},
   "outputs": [],
   "source": [
    "def generate_random_number(min_value, max_value):\n",
    "    return random.randint(min_value, max_value)"
   ]
  },
  {
   "cell_type": "code",
   "execution_count": 35,
   "id": "ebe394d5-2593-4a16-927a-b54898dbe1f0",
   "metadata": {},
   "outputs": [
    {
     "data": {
      "text/plain": [
       "15"
      ]
     },
     "execution_count": 35,
     "metadata": {},
     "output_type": "execute_result"
    }
   ],
   "source": [
    "generate_random_number(1, 50)"
   ]
  },
  {
   "cell_type": "code",
   "execution_count": 43,
   "id": "23111484-51b2-48e7-92af-599d6189ec49",
   "metadata": {},
   "outputs": [],
   "source": [
    "characters = [\"A\", \"B\", \"C\", \"D\", \"E\", 7, 8, 9, 10, 11, 1.1, 2.5]"
   ]
  },
  {
   "cell_type": "code",
   "execution_count": 51,
   "id": "7599b307-7752-4f22-88ef-7dbd0e71a9c8",
   "metadata": {},
   "outputs": [
    {
     "data": {
      "text/plain": [
       "7"
      ]
     },
     "execution_count": 51,
     "metadata": {},
     "output_type": "execute_result"
    }
   ],
   "source": [
    "random.choice(characters)"
   ]
  },
  {
   "cell_type": "markdown",
   "id": "0b62c59c-b6c3-4d93-bf7e-2c8cd10e32a9",
   "metadata": {},
   "source": [
    "## Random Numnber Guessing Game"
   ]
  },
  {
   "cell_type": "code",
   "execution_count": 1,
   "id": "996a52b0-f782-4eb2-b6cb-baf8d30c56ff",
   "metadata": {},
   "outputs": [],
   "source": [
    "## Function to generate a random number within a specified range\n",
    "import random"
   ]
  },
  {
   "cell_type": "code",
   "execution_count": 2,
   "id": "df4c97fd-c4aa-4f6a-8f3f-bea6bba5c4f7",
   "metadata": {},
   "outputs": [],
   "source": [
    "def generate_random_number(minimum_value, maximum_value):\n",
    "    return random.randint(minimum_value, maximum_value)"
   ]
  },
  {
   "cell_type": "code",
   "execution_count": 15,
   "id": "0905955a-d76f-4bdb-8e83-6dd93b93d5a0",
   "metadata": {},
   "outputs": [
    {
     "data": {
      "text/plain": [
       "7"
      ]
     },
     "execution_count": 15,
     "metadata": {},
     "output_type": "execute_result"
    }
   ],
   "source": [
    "generate_random_number(1, 10)"
   ]
  },
  {
   "cell_type": "code",
   "execution_count": 16,
   "id": "deb149ae-9695-46bd-9429-d4e40ba43a2d",
   "metadata": {},
   "outputs": [],
   "source": [
    "# Function to check the guess of the user that whether the guess is correct or not\n",
    "def check_guess(guess_of_user, target):\n",
    "    if guess_of_user > target:\n",
    "        return \"Too High\"\n",
    "    elif guess_of_user < target:\n",
    "        return \"Too Low\"\n",
    "    else:\n",
    "        return \"Correct\""
   ]
  },
  {
   "cell_type": "code",
   "execution_count": 19,
   "id": "bf349050-be21-4e7b-9ca9-bb5fcd236a24",
   "metadata": {},
   "outputs": [
    {
     "data": {
      "text/plain": [
       "'Correct'"
      ]
     },
     "execution_count": 19,
     "metadata": {},
     "output_type": "execute_result"
    }
   ],
   "source": [
    "check_guess(5, 5)"
   ]
  },
  {
   "cell_type": "code",
   "execution_count": 39,
   "id": "ef55b082-6c59-4d14-aa37-6f6a06407c6d",
   "metadata": {},
   "outputs": [],
   "source": [
    "# Lambda Function to validate the user's input\n",
    "# validate_input_of_user = lambda input_number, minimum_value, maximum_value: input_number >= minimum_value and input_number <= maximum_value\n",
    "validate_input_of_user = lambda input_number, minimum_value, maximum_value: input_number.isdigit() and minimum_value <= int(input_number) <= maximum_value\n",
    "# validate_input_of_user = lambda minimum_value, maximum_value: minimum_value <= int(input(\"Enter a number\")) <= maximum_value"
   ]
  },
  {
   "cell_type": "code",
   "execution_count": 106,
   "id": "a5ebdf98-3e87-417a-a28a-6aee6c926bce",
   "metadata": {},
   "outputs": [
    {
     "name": "stdin",
     "output_type": "stream",
     "text": [
      "Enter a number 5\n"
     ]
    },
    {
     "data": {
      "text/plain": [
       "True"
      ]
     },
     "execution_count": 106,
     "metadata": {},
     "output_type": "execute_result"
    }
   ],
   "source": [
    "n = input(\"Enter a number\")\n",
    "validate_input_of_user(n, 1, 100)"
   ]
  },
  {
   "cell_type": "code",
   "execution_count": 61,
   "id": "2c62786b-0dff-493b-923f-a255272b0b56",
   "metadata": {},
   "outputs": [],
   "source": [
    "def play_game(target, attempts_of_user = 1):\n",
    "    guess = input(f\"Guess a number, your total attempts: {attempts_of_user}\")\n",
    "    # If the number is not in a specific range that is 1 to 100\n",
    "    # attempts_of_user = attempts_of_user + 1\n",
    "    if not validate_input_of_user(guess, 1, 100):\n",
    "        print(\"Enter a number between the range 1 to 100\")\n",
    "        return play_game(target, attempts_of_user + 1)\n",
    "    else:\n",
    "        # If the number is in a specific range that is 1 to 100\n",
    "        feedback = check_guess(int(guess), target)\n",
    "        if feedback == \"Correct\":\n",
    "            print(f\"Congratulations! Your guess is correct, and you took {attempts_of_user} for the right guess\")\n",
    "        else:\n",
    "            print(feedback)\n",
    "            play_game(target, attempts_of_user + 1)"
   ]
  },
  {
   "cell_type": "code",
   "execution_count": 108,
   "id": "f73cda7f-539a-4980-9458-fde41a2905e6",
   "metadata": {},
   "outputs": [
    {
     "name": "stdin",
     "output_type": "stream",
     "text": [
      "Guess a number, your total attempts: 1 5\n"
     ]
    },
    {
     "name": "stdout",
     "output_type": "stream",
     "text": [
      "Congratulations! Your guess is correct, and you took 1 for the right guess\n"
     ]
    }
   ],
   "source": [
    "play_game(5)"
   ]
  },
  {
   "cell_type": "code",
   "execution_count": 110,
   "id": "042491dc-f939-498a-a55d-aacaeed9f5d9",
   "metadata": {},
   "outputs": [
    {
     "name": "stdout",
     "output_type": "stream",
     "text": [
      "Game will begin now!\n"
     ]
    },
    {
     "name": "stdin",
     "output_type": "stream",
     "text": [
      "Guess a number, your total attempts: 1 70\n"
     ]
    },
    {
     "name": "stdout",
     "output_type": "stream",
     "text": [
      "Too High\n"
     ]
    },
    {
     "name": "stdin",
     "output_type": "stream",
     "text": [
      "Guess a number, your total attempts: 2 30\n"
     ]
    },
    {
     "name": "stdout",
     "output_type": "stream",
     "text": [
      "Too Low\n"
     ]
    },
    {
     "name": "stdin",
     "output_type": "stream",
     "text": [
      "Guess a number, your total attempts: 3 40\n"
     ]
    },
    {
     "name": "stdout",
     "output_type": "stream",
     "text": [
      "Too Low\n"
     ]
    },
    {
     "name": "stdin",
     "output_type": "stream",
     "text": [
      "Guess a number, your total attempts: 4 60\n"
     ]
    },
    {
     "name": "stdout",
     "output_type": "stream",
     "text": [
      "Too High\n"
     ]
    },
    {
     "name": "stdin",
     "output_type": "stream",
     "text": [
      "Guess a number, your total attempts: 5 50\n"
     ]
    },
    {
     "name": "stdout",
     "output_type": "stream",
     "text": [
      "Too High\n"
     ]
    },
    {
     "name": "stdin",
     "output_type": "stream",
     "text": [
      "Guess a number, your total attempts: 6 45\n"
     ]
    },
    {
     "name": "stdout",
     "output_type": "stream",
     "text": [
      "Congratulations! Your guess is correct, and you took 6 for the right guess\n"
     ]
    }
   ],
   "source": [
    "## Executing the proper game\n",
    "print(\"Game will begin now!\")\n",
    "target_number = generate_random_number(1, 100)\n",
    "play_game(target_number)"
   ]
  },
  {
   "cell_type": "markdown",
   "id": "f1e56e17-2553-4ada-86c3-915a5af290d7",
   "metadata": {},
   "source": [
    "## Lambda Function Examples"
   ]
  },
  {
   "cell_type": "code",
   "execution_count": 64,
   "id": "23afac2c-1f14-41d5-934b-4002a9fa91ae",
   "metadata": {},
   "outputs": [
    {
     "data": {
      "text/plain": [
       "3"
      ]
     },
     "execution_count": 64,
     "metadata": {},
     "output_type": "execute_result"
    }
   ],
   "source": [
    "# Sum of 2 numbers\n",
    "a = lambda n1, n2 : n1 + n2\n",
    "a(1, 2)"
   ]
  },
  {
   "cell_type": "code",
   "execution_count": 83,
   "id": "93e1492b-1d19-4d02-b2f1-148671cf4ceb",
   "metadata": {},
   "outputs": [],
   "source": [
    "# Return all the odd numbers in the given range\n",
    "odd_numbers_within_range = lambda number_range : [i if i % 2 != 0 else \"Even Number\" for i in range(number_range)]"
   ]
  },
  {
   "cell_type": "code",
   "execution_count": 84,
   "id": "debc7a06-04e5-4dd4-a6d5-ac9b34fdc793",
   "metadata": {},
   "outputs": [
    {
     "data": {
      "text/plain": [
       "['Even Number',\n",
       " 1,\n",
       " 'Even Number',\n",
       " 3,\n",
       " 'Even Number',\n",
       " 5,\n",
       " 'Even Number',\n",
       " 7,\n",
       " 'Even Number',\n",
       " 9]"
      ]
     },
     "execution_count": 84,
     "metadata": {},
     "output_type": "execute_result"
    }
   ],
   "source": [
    "odd_numbers_within_range(10)"
   ]
  },
  {
   "cell_type": "code",
   "execution_count": 78,
   "id": "0fbe5ef5-4dae-4044-bf2d-2503f20c3db2",
   "metadata": {},
   "outputs": [
    {
     "name": "stdout",
     "output_type": "stream",
     "text": [
      "1\n",
      "3\n",
      "5\n",
      "7\n",
      "9\n"
     ]
    }
   ],
   "source": [
    "for i in range(10):\n",
    "    if i % 2 != 0:\n",
    "        print(i)"
   ]
  },
  {
   "cell_type": "code",
   "execution_count": 89,
   "id": "a9061a3c-6c79-4016-b746-8ad53dbf200f",
   "metadata": {},
   "outputs": [
    {
     "data": {
      "text/plain": [
       "74"
      ]
     },
     "execution_count": 89,
     "metadata": {},
     "output_type": "execute_result"
    }
   ],
   "source": [
    "random.randint(10, 100)"
   ]
  },
  {
   "cell_type": "code",
   "execution_count": 90,
   "id": "16595493-56f7-4aaf-9077-661321285443",
   "metadata": {},
   "outputs": [],
   "source": [
    "names  = [\"Ashok\", \"Ritik\", \"Himanshi\"]"
   ]
  },
  {
   "cell_type": "code",
   "execution_count": 99,
   "id": "970a3688-3688-4eef-81cc-45a97252267f",
   "metadata": {},
   "outputs": [
    {
     "data": {
      "text/plain": [
       "'Himanshi'"
      ]
     },
     "execution_count": 99,
     "metadata": {},
     "output_type": "execute_result"
    }
   ],
   "source": [
    "random.choice(names)"
   ]
  },
  {
   "cell_type": "code",
   "execution_count": 100,
   "id": "7191eeb0-d706-4197-a94c-4d5079a6ac28",
   "metadata": {},
   "outputs": [],
   "source": [
    "import numpy as np"
   ]
  },
  {
   "cell_type": "code",
   "execution_count": 102,
   "id": "7bb1b62d-0408-4ae9-a351-c521e33a7357",
   "metadata": {},
   "outputs": [
    {
     "data": {
      "text/plain": [
       "45"
      ]
     },
     "execution_count": 102,
     "metadata": {},
     "output_type": "execute_result"
    }
   ],
   "source": [
    "np.random.randint(10, 100)"
   ]
  },
  {
   "cell_type": "code",
   "execution_count": null,
   "id": "15c69c09-f16d-4bd8-adca-5176dc7be558",
   "metadata": {},
   "outputs": [],
   "source": []
  }
 ],
 "metadata": {
  "kernelspec": {
   "display_name": "Python 3 (ipykernel)",
   "language": "python",
   "name": "python3"
  },
  "language_info": {
   "codemirror_mode": {
    "name": "ipython",
    "version": 3
   },
   "file_extension": ".py",
   "mimetype": "text/x-python",
   "name": "python",
   "nbconvert_exporter": "python",
   "pygments_lexer": "ipython3",
   "version": "3.10.9"
  }
 },
 "nbformat": 4,
 "nbformat_minor": 5
}

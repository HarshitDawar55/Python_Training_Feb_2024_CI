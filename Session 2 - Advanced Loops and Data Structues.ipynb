{
 "cells": [
  {
   "cell_type": "markdown",
   "id": "b83b1138-3e75-4763-a271-94466683df85",
   "metadata": {},
   "source": [
    "# Session 2 - Advanced Loops and Data Structures by `Mr. Harshit Dawar!`"
   ]
  },
  {
   "cell_type": "code",
   "execution_count": 1,
   "id": "0a0fa85d-92e5-4d42-8388-ecd9a171b5f9",
   "metadata": {},
   "outputs": [
    {
     "data": {
      "text/plain": [
       "[1, 2, 3, 4, 5]"
      ]
     },
     "execution_count": 1,
     "metadata": {},
     "output_type": "execute_result"
    }
   ],
   "source": [
    "marks = [1, 2, 3, 4, 5]\n",
    "marks"
   ]
  },
  {
   "cell_type": "code",
   "execution_count": 2,
   "id": "cf5e5d16-bf0e-4185-9f55-a5b19dba1109",
   "metadata": {},
   "outputs": [
    {
     "data": {
      "text/plain": [
       "[10, 2, 3, 4, 5]"
      ]
     },
     "execution_count": 2,
     "metadata": {},
     "output_type": "execute_result"
    }
   ],
   "source": [
    "marks[0] = 10\n",
    "marks"
   ]
  },
  {
   "cell_type": "code",
   "execution_count": 3,
   "id": "7f98d463-de05-4027-bd18-7d731cca3cae",
   "metadata": {},
   "outputs": [
    {
     "data": {
      "text/plain": [
       "(1, 2, 3, 4, 5)"
      ]
     },
     "execution_count": 3,
     "metadata": {},
     "output_type": "execute_result"
    }
   ],
   "source": [
    "marks_tuple = (1, 2, 3, 4, 5)\n",
    "marks_tuple"
   ]
  },
  {
   "cell_type": "code",
   "execution_count": 4,
   "id": "b377cfa0-4314-49ec-92c0-507be312458b",
   "metadata": {},
   "outputs": [
    {
     "ename": "TypeError",
     "evalue": "'tuple' object does not support item assignment",
     "output_type": "error",
     "traceback": [
      "\u001b[1;31m---------------------------------------------------------------------------\u001b[0m",
      "\u001b[1;31mTypeError\u001b[0m                                 Traceback (most recent call last)",
      "Cell \u001b[1;32mIn[4], line 1\u001b[0m\n\u001b[1;32m----> 1\u001b[0m marks_tuple[\u001b[38;5;241m0\u001b[39m] \u001b[38;5;241m=\u001b[39m \u001b[38;5;241m10\u001b[39m\n",
      "\u001b[1;31mTypeError\u001b[0m: 'tuple' object does not support item assignment"
     ]
    }
   ],
   "source": [
    "marks_tuple[0] = 10"
   ]
  },
  {
   "cell_type": "code",
   "execution_count": 5,
   "id": "8e66522f-d86a-4589-9016-a96720395b9f",
   "metadata": {},
   "outputs": [
    {
     "ename": "SyntaxError",
     "evalue": "cannot assign to function call here. Maybe you meant '==' instead of '='? (2667161647.py, line 1)",
     "output_type": "error",
     "traceback": [
      "\u001b[1;36m  Cell \u001b[1;32mIn[5], line 1\u001b[1;36m\u001b[0m\n\u001b[1;33m    marks_tuple(0) = 10\u001b[0m\n\u001b[1;37m    ^\u001b[0m\n\u001b[1;31mSyntaxError\u001b[0m\u001b[1;31m:\u001b[0m cannot assign to function call here. Maybe you meant '==' instead of '='?\n"
     ]
    }
   ],
   "source": [
    "marks_tuple(0) = 10"
   ]
  },
  {
   "cell_type": "code",
   "execution_count": 6,
   "id": "daf60889-6777-4dbd-8ffb-a997e2c7f2ba",
   "metadata": {},
   "outputs": [],
   "source": [
    "marks.append(100)"
   ]
  },
  {
   "cell_type": "code",
   "execution_count": 7,
   "id": "5596f130-c7de-4362-910f-ce45ad087213",
   "metadata": {},
   "outputs": [
    {
     "data": {
      "text/plain": [
       "[10, 2, 3, 4, 5, 100]"
      ]
     },
     "execution_count": 7,
     "metadata": {},
     "output_type": "execute_result"
    }
   ],
   "source": [
    "marks"
   ]
  },
  {
   "cell_type": "markdown",
   "id": "f4b239eb-42d4-4751-b700-e52b05622ede",
   "metadata": {},
   "source": [
    "## Program to print prime numbers between a specific range (without functions)"
   ]
  },
  {
   "cell_type": "code",
   "execution_count": 21,
   "id": "e68a854f-24c9-440a-9aa5-b491b2b01a77",
   "metadata": {},
   "outputs": [
    {
     "name": "stdin",
     "output_type": "stream",
     "text": [
      "Enter the starting number for the range 10\n",
      "Enter the ending number for the range 100\n"
     ]
    },
    {
     "name": "stdout",
     "output_type": "stream",
     "text": [
      "11\n",
      "13\n",
      "17\n",
      "19\n",
      "23\n",
      "29\n",
      "31\n",
      "37\n",
      "41\n",
      "43\n",
      "47\n",
      "53\n",
      "59\n",
      "61\n",
      "67\n",
      "71\n",
      "73\n",
      "79\n",
      "83\n",
      "89\n",
      "97\n"
     ]
    }
   ],
   "source": [
    "# Step 1: Take the input from the user for the range\n",
    "lower_limit = int(input(\"Enter the starting number for the range\"))\n",
    "upper_limit = int(input(\"Enter the ending number for the range\"))\n",
    "# print(\"Data Type of entries: {}\".format(type(lower_limit)))\n",
    "# print(\"Data Type of entries: \" , type(lower_limit))\n",
    "\n",
    "# Step 2: Loop in the range to get the prime numbers\n",
    "for i in range(lower_limit, upper_limit + 1):\n",
    "    for j in range(2, i):\n",
    "        if i % j == 0:\n",
    "            # print(\"No Prime Number\")\n",
    "            break\n",
    "    else:\n",
    "        print(i)"
   ]
  },
  {
   "cell_type": "code",
   "execution_count": 15,
   "id": "0e88996d-9dd9-485f-9c31-7d9a9dd6a6c4",
   "metadata": {},
   "outputs": [
    {
     "data": {
      "text/plain": [
       "[0, 1, 2, 3, 4, 5, 6, 7, 8, 9, 10]"
      ]
     },
     "execution_count": 15,
     "metadata": {},
     "output_type": "execute_result"
    }
   ],
   "source": [
    "list(range(0, 11))"
   ]
  },
  {
   "cell_type": "markdown",
   "id": "2439e548-349a-45de-bcff-866d9582e153",
   "metadata": {},
   "source": [
    "## Program to find the first even number greator than a specific number in a given list"
   ]
  },
  {
   "cell_type": "code",
   "execution_count": 23,
   "id": "883b57e9-eb0d-4075-af70-9253028496aa",
   "metadata": {},
   "outputs": [
    {
     "name": "stdin",
     "output_type": "stream",
     "text": [
      "Please enter the Target Number 5\n"
     ]
    },
    {
     "name": "stdout",
     "output_type": "stream",
     "text": [
      "6\n",
      "8\n",
      "8\n",
      "10\n"
     ]
    }
   ],
   "source": [
    "list_of_numbers = [1,2,3,4,5,6,7,8,8,9,10]\n",
    "\n",
    "specific_number = int(input(\"Please enter the Target Number\"))\n",
    "for number in list_of_numbers:\n",
    "    if number > specific_number and number % 2 == 0:\n",
    "        print(number)\n",
    "        "
   ]
  },
  {
   "cell_type": "markdown",
   "id": "837ec965-2dcc-4812-882b-3d12d6a14a7d",
   "metadata": {},
   "source": [
    "## Program to find the perfect number less than a specific number"
   ]
  },
  {
   "cell_type": "code",
   "execution_count": 24,
   "id": "e0ac9bee-2d2a-4ef6-a057-b728e55b0810",
   "metadata": {},
   "outputs": [
    {
     "name": "stdin",
     "output_type": "stream",
     "text": [
      "Enter a number 100\n"
     ]
    },
    {
     "name": "stdout",
     "output_type": "stream",
     "text": [
      "6\n",
      "28\n"
     ]
    }
   ],
   "source": [
    "number = int(input(\"Enter a number\"))\n",
    "n = 2\n",
    "while n <= number:\n",
    "    sum_of_factors = 0\n",
    "    for i in range(1, n):\n",
    "        if n % i == 0:\n",
    "            sum_of_factors += i\n",
    "    if sum_of_factors == n:\n",
    "        print(n)\n",
    "    n += 1"
   ]
  },
  {
   "cell_type": "code",
   "execution_count": null,
   "id": "388c8eac-17f7-4c70-85db-f68012b5986f",
   "metadata": {},
   "outputs": [],
   "source": [
    "28= 1, 2, 4, 14, 7, "
   ]
  }
 ],
 "metadata": {
  "kernelspec": {
   "display_name": "Python 3 (ipykernel)",
   "language": "python",
   "name": "python3"
  },
  "language_info": {
   "codemirror_mode": {
    "name": "ipython",
    "version": 3
   },
   "file_extension": ".py",
   "mimetype": "text/x-python",
   "name": "python",
   "nbconvert_exporter": "python",
   "pygments_lexer": "ipython3",
   "version": "3.10.9"
  }
 },
 "nbformat": 4,
 "nbformat_minor": 5
}

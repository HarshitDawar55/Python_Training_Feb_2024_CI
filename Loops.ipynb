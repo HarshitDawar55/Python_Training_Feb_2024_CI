{
 "cells": [
  {
   "cell_type": "markdown",
   "id": "7608a2b3-76ac-4af8-a80a-9c88e556b150",
   "metadata": {},
   "source": [
    "# Loops by `Mr. Harshit Dawar!`"
   ]
  },
  {
   "cell_type": "code",
   "execution_count": 6,
   "id": "fb08bffc-5c90-41b6-9a04-b05544785026",
   "metadata": {},
   "outputs": [
    {
     "name": "stdout",
     "output_type": "stream",
     "text": [
      "2\n",
      "3\n",
      "4\n",
      "5\n",
      "6\n",
      "7\n",
      "8\n",
      "9\n",
      "10\n",
      "11\n"
     ]
    }
   ],
   "source": [
    "counting_starting_number = 1\n",
    "while counting_starting_number <= 10:\n",
    "    counting_starting_number = counting_starting_number + 1\n",
    "    print(counting_starting_number)\n",
    "    "
   ]
  },
  {
   "cell_type": "code",
   "execution_count": 12,
   "id": "77ac34eb-d94d-48e9-912b-1147e36f6319",
   "metadata": {},
   "outputs": [
    {
     "data": {
      "text/plain": [
       "True"
      ]
     },
     "execution_count": 12,
     "metadata": {},
     "output_type": "execute_result"
    }
   ],
   "source": [
    "counting_starting_number = 1\n",
    "counting_starting_number <= 10"
   ]
  },
  {
   "cell_type": "code",
   "execution_count": 7,
   "id": "54714250-f6d7-4bf9-862e-7512cb913e04",
   "metadata": {},
   "outputs": [
    {
     "name": "stdout",
     "output_type": "stream",
     "text": [
      "1\n",
      "2\n",
      "3\n",
      "4\n",
      "5\n",
      "6\n",
      "7\n",
      "8\n",
      "9\n",
      "10\n"
     ]
    }
   ],
   "source": [
    "for number in range(1, 11):\n",
    "    print(number)"
   ]
  },
  {
   "cell_type": "code",
   "execution_count": 8,
   "id": "850e45bd-2cd7-4e43-ac4e-cae82294dcb7",
   "metadata": {},
   "outputs": [
    {
     "data": {
      "text/plain": [
       "['burger', 'pizza', 'dal makhani', 'sandwich', 'parantha']"
      ]
     },
     "execution_count": 8,
     "metadata": {},
     "output_type": "execute_result"
    }
   ],
   "source": [
    "food_items = [\"Burger\", \"pizza\", \"Dal Makhani\", \"Sandwich\", \"Parantha\"]\n",
    "food_items = [i.lower() for i in food_items]\n",
    "food_items"
   ]
  },
  {
   "cell_type": "code",
   "execution_count": 9,
   "id": "3732eb60-f73f-45f9-a3f0-b5fcafc5993e",
   "metadata": {},
   "outputs": [
    {
     "ename": "AttributeError",
     "evalue": "'list' object has no attribute 'lower'",
     "output_type": "error",
     "traceback": [
      "\u001b[1;31m---------------------------------------------------------------------------\u001b[0m",
      "\u001b[1;31mAttributeError\u001b[0m                            Traceback (most recent call last)",
      "Cell \u001b[1;32mIn[9], line 1\u001b[0m\n\u001b[1;32m----> 1\u001b[0m \u001b[43mfood_items\u001b[49m\u001b[38;5;241;43m.\u001b[39;49m\u001b[43mlower\u001b[49m()\n",
      "\u001b[1;31mAttributeError\u001b[0m: 'list' object has no attribute 'lower'"
     ]
    }
   ],
   "source": [
    "# lower() function is only available in strings not list\n",
    "food_items.lower()"
   ]
  },
  {
   "cell_type": "code",
   "execution_count": 18,
   "id": "3b73a165-9293-4920-85ad-91c06330b1f4",
   "metadata": {},
   "outputs": [
    {
     "name": "stdin",
     "output_type": "stream",
     "text": [
      "Enter something, let's see whether you are hungry or not! pickle\n"
     ]
    },
    {
     "name": "stdout",
     "output_type": "stream",
     "text": [
      "You already ate a lot, so not hungry\n"
     ]
    },
    {
     "name": "stdin",
     "output_type": "stream",
     "text": [
      "Enter something, let's see whether you are hungry or not! burger\n"
     ]
    },
    {
     "name": "stdout",
     "output_type": "stream",
     "text": [
      "----------You are hugry----------\n"
     ]
    }
   ],
   "source": [
    "while True:\n",
    "    user_entry = input(\"Enter something, let's see whether you are hungry or not!\")\n",
    "    if user_entry.lower() in food_items:\n",
    "        print(\"----------You are hugry----------\")\n",
    "        break\n",
    "    else:\n",
    "        print(\"You already ate a lot, so not hungry\")"
   ]
  },
  {
   "cell_type": "code",
   "execution_count": 20,
   "id": "9fed56fd-06c0-4bcd-b5fc-a1a4498bb077",
   "metadata": {},
   "outputs": [
    {
     "name": "stdout",
     "output_type": "stream",
     "text": [
      "This is the best class and trainer\n",
      "This is the best class and trainer\n",
      "This is the best class and trainer\n",
      "This is the best class and trainer\n",
      "This is the best class and trainer\n",
      "This is the best class and trainer\n",
      "This is the best class and trainer\n",
      "This is the best class and trainer\n",
      "This is the best class and trainer\n"
     ]
    }
   ],
   "source": [
    "for _ in range(1, 10):\n",
    "    print(\"This is the best class and trainer\")"
   ]
  },
  {
   "cell_type": "code",
   "execution_count": 22,
   "id": "4d41bef4-db47-4652-9fba-83560ac4fc09",
   "metadata": {},
   "outputs": [
    {
     "name": "stdin",
     "output_type": "stream",
     "text": [
      "Enter something, let's see whether you are hungry or not! hello\n"
     ]
    },
    {
     "name": "stdout",
     "output_type": "stream",
     "text": [
      "You already ate a lot, so not hungry\n"
     ]
    },
    {
     "name": "stdin",
     "output_type": "stream",
     "text": [
      "Enter something, let's see whether you are hungry or not! burger\n"
     ]
    },
    {
     "name": "stdout",
     "output_type": "stream",
     "text": [
      "----------You are hugry----------\n",
      "You already ate a lot, so not hungry\n"
     ]
    }
   ],
   "source": [
    "user_is_hungry = False\n",
    "while not user_is_hungry:\n",
    "    user_entry = input(\"Enter something, let's see whether you are hungry or not!\").lower()\n",
    "    for food in food_items:\n",
    "        if food == user_entry:\n",
    "            print(\"----------You are hugry----------\")\n",
    "            user_is_hungry = True\n",
    "            break\n",
    "    print(\"You already ate a lot, so not hungry\")"
   ]
  },
  {
   "cell_type": "code",
   "execution_count": 26,
   "id": "f69ec6d4-30ac-481d-87d1-deff578b4a76",
   "metadata": {
    "scrolled": true
   },
   "outputs": [
    {
     "name": "stdout",
     "output_type": "stream",
     "text": [
      "Table of 2 will be printed\n",
      "2 x 1 = 2\n",
      "2 x 2 = 4\n",
      "2 x 3 = 6\n",
      "2 x 4 = 8\n",
      "2 x 5 = 10\n",
      "2 x 6 = 12\n",
      "2 x 7 = 14\n",
      "2 x 8 = 16\n",
      "2 x 9 = 18\n",
      "2 x 10 = 20\n",
      "\n",
      "Now, the table of 3 will be printed till 10\n",
      "3 x 1 = 3\n",
      "3 x 2 = 6\n",
      "3 x 3 = 9\n",
      "3 x 4 = 12\n",
      "3 x 5 = 15\n",
      "3 x 6 = 18\n",
      "3 x 7 = 21\n",
      "3 x 8 = 24\n",
      "3 x 9 = 27\n",
      "3 x 10 = 30\n",
      "\n",
      "Now, the table of 4 will be printed till 10\n",
      "4 x 1 = 4\n",
      "4 x 2 = 8\n",
      "4 x 3 = 12\n",
      "4 x 4 = 16\n",
      "4 x 5 = 20\n",
      "4 x 6 = 24\n",
      "4 x 7 = 28\n",
      "4 x 8 = 32\n",
      "4 x 9 = 36\n",
      "4 x 10 = 40\n",
      "\n",
      "Now, the table of 5 will be printed till 10\n",
      "5 x 1 = 5\n",
      "5 x 2 = 10\n",
      "5 x 3 = 15\n",
      "5 x 4 = 20\n",
      "5 x 5 = 25\n",
      "5 x 6 = 30\n",
      "5 x 7 = 35\n",
      "5 x 8 = 40\n",
      "5 x 9 = 45\n",
      "5 x 10 = 50\n",
      "\n",
      "Now, the table of 6 will be printed till 10\n",
      "6 x 1 = 6\n",
      "6 x 2 = 12\n",
      "6 x 3 = 18\n",
      "6 x 4 = 24\n",
      "6 x 5 = 30\n",
      "6 x 6 = 36\n",
      "6 x 7 = 42\n",
      "6 x 8 = 48\n",
      "6 x 9 = 54\n",
      "6 x 10 = 60\n",
      "\n",
      "Now, the table of 7 will be printed till 10\n",
      "7 x 1 = 7\n",
      "7 x 2 = 14\n",
      "7 x 3 = 21\n",
      "7 x 4 = 28\n",
      "7 x 5 = 35\n",
      "7 x 6 = 42\n",
      "7 x 7 = 49\n",
      "7 x 8 = 56\n",
      "7 x 9 = 63\n",
      "7 x 10 = 70\n",
      "\n",
      "Now, the table of 8 will be printed till 10\n",
      "8 x 1 = 8\n",
      "8 x 2 = 16\n",
      "8 x 3 = 24\n",
      "8 x 4 = 32\n",
      "8 x 5 = 40\n",
      "8 x 6 = 48\n",
      "8 x 7 = 56\n",
      "8 x 8 = 64\n",
      "8 x 9 = 72\n",
      "8 x 10 = 80\n",
      "\n",
      "Now, the table of 9 will be printed till 10\n",
      "9 x 1 = 9\n",
      "9 x 2 = 18\n",
      "9 x 3 = 27\n",
      "9 x 4 = 36\n",
      "9 x 5 = 45\n",
      "9 x 6 = 54\n",
      "9 x 7 = 63\n",
      "9 x 8 = 72\n",
      "9 x 9 = 81\n",
      "9 x 10 = 90\n",
      "\n",
      "Now, the table of 10 will be printed till 10\n",
      "10 x 1 = 10\n",
      "10 x 2 = 20\n",
      "10 x 3 = 30\n",
      "10 x 4 = 40\n",
      "10 x 5 = 50\n",
      "10 x 6 = 60\n",
      "10 x 7 = 70\n",
      "10 x 8 = 80\n",
      "10 x 9 = 90\n",
      "10 x 10 = 100\n",
      "\n",
      "Now, the table of 11 will be printed till 10\n"
     ]
    }
   ],
   "source": [
    "# All tables for 2 to 10 should be printed each from 1 to 10\n",
    "print(\"Table of 2 will be printed\")\n",
    "for i in range (2, 11):\n",
    "    for j in range(1, 11):\n",
    "        print(f\"{i} x {j} = {i * j}\")\n",
    "    print()\n",
    "    print(f\"Now, the table of {i + 1} will be printed till 10\")"
   ]
  },
  {
   "cell_type": "code",
   "execution_count": 28,
   "id": "e22084a8-6590-4d62-8f11-2850f2197767",
   "metadata": {},
   "outputs": [
    {
     "name": "stdout",
     "output_type": "stream",
     "text": [
      "2\n",
      "3\n",
      "4\n",
      "5\n",
      "6\n",
      "7\n",
      "8\n",
      "9\n",
      "10\n",
      "1\n",
      "2\n",
      "3\n",
      "4\n",
      "5\n",
      "6\n",
      "7\n",
      "8\n",
      "9\n",
      "10\n"
     ]
    }
   ],
   "source": [
    "for i in range (2, 11):\n",
    "    print(i)\n",
    "for j in range(1, 11):\n",
    "    print(j)"
   ]
  },
  {
   "cell_type": "code",
   "execution_count": null,
   "id": "c3abf434-fa7c-4fdd-abbf-1528b27bc7b7",
   "metadata": {},
   "outputs": [],
   "source": []
  }
 ],
 "metadata": {
  "kernelspec": {
   "display_name": "Python 3 (ipykernel)",
   "language": "python",
   "name": "python3"
  },
  "language_info": {
   "codemirror_mode": {
    "name": "ipython",
    "version": 3
   },
   "file_extension": ".py",
   "mimetype": "text/x-python",
   "name": "python",
   "nbconvert_exporter": "python",
   "pygments_lexer": "ipython3",
   "version": "3.10.9"
  }
 },
 "nbformat": 4,
 "nbformat_minor": 5
}

{
 "cells": [
  {
   "cell_type": "markdown",
   "id": "cd30dadd-deb1-431c-8f46-1ee320b91374",
   "metadata": {},
   "source": [
    "## EDA using Python Training by `Mr. Harshit Dawar!`"
   ]
  },
  {
   "cell_type": "code",
   "execution_count": 1,
   "id": "7ab70293-61d9-413d-8e44-ecdcd7f02197",
   "metadata": {},
   "outputs": [],
   "source": [
    "l = [1,2,3,4,5]"
   ]
  },
  {
   "cell_type": "code",
   "execution_count": 2,
   "id": "bf7c7aaa-5c45-430b-baa5-e026e8684450",
   "metadata": {},
   "outputs": [
    {
     "data": {
      "text/plain": [
       "5"
      ]
     },
     "execution_count": 2,
     "metadata": {},
     "output_type": "execute_result"
    }
   ],
   "source": [
    "l[-1]"
   ]
  },
  {
   "cell_type": "code",
   "execution_count": 3,
   "id": "fd720075-8591-4055-9607-d5adc01feb3b",
   "metadata": {},
   "outputs": [],
   "source": [
    "l.insert(0, 10)"
   ]
  },
  {
   "cell_type": "code",
   "execution_count": 4,
   "id": "d5a36ad8-8911-476e-8824-aa1ce6774c0a",
   "metadata": {},
   "outputs": [
    {
     "data": {
      "text/plain": [
       "[10, 1, 2, 3, 4, 5]"
      ]
     },
     "execution_count": 4,
     "metadata": {},
     "output_type": "execute_result"
    }
   ],
   "source": [
    "l"
   ]
  },
  {
   "cell_type": "code",
   "execution_count": 5,
   "id": "33c17b35-690d-4114-9560-512c1e8c5814",
   "metadata": {},
   "outputs": [],
   "source": [
    "l.insert(4, 8)"
   ]
  },
  {
   "cell_type": "code",
   "execution_count": 6,
   "id": "feea48a5-f2b2-4dcb-9f9f-151d79fce2cb",
   "metadata": {},
   "outputs": [
    {
     "data": {
      "text/plain": [
       "[10, 1, 2, 3, 8, 4, 5]"
      ]
     },
     "execution_count": 6,
     "metadata": {},
     "output_type": "execute_result"
    }
   ],
   "source": [
    "l"
   ]
  },
  {
   "cell_type": "code",
   "execution_count": 7,
   "id": "f084e9c7-ea24-46f5-9756-8b885b647fc2",
   "metadata": {},
   "outputs": [],
   "source": [
    "l.insert(2, [9, 10, 11,12,13])"
   ]
  },
  {
   "cell_type": "code",
   "execution_count": 8,
   "id": "2639df71-2a4c-43cb-b9a7-c80affd90d12",
   "metadata": {},
   "outputs": [
    {
     "data": {
      "text/plain": [
       "[10, 1, [9, 10, 11, 12, 13], 2, 3, 8, 4, 5]"
      ]
     },
     "execution_count": 8,
     "metadata": {},
     "output_type": "execute_result"
    }
   ],
   "source": [
    "l"
   ]
  },
  {
   "cell_type": "code",
   "execution_count": 9,
   "id": "a3180b6d-d8ff-4f9e-8dfe-91f0efc133e9",
   "metadata": {},
   "outputs": [],
   "source": [
    "l.append(\"Harshit Dawar\")"
   ]
  },
  {
   "cell_type": "code",
   "execution_count": 10,
   "id": "3a858df1-1077-42f7-b776-cd1bb1087296",
   "metadata": {},
   "outputs": [
    {
     "data": {
      "text/plain": [
       "[10, 1, [9, 10, 11, 12, 13], 2, 3, 8, 4, 5, 'Harshit Dawar']"
      ]
     },
     "execution_count": 10,
     "metadata": {},
     "output_type": "execute_result"
    }
   ],
   "source": [
    "l"
   ]
  },
  {
   "cell_type": "code",
   "execution_count": 11,
   "id": "2b231eef-e80e-4179-9b1c-4d48edb110ca",
   "metadata": {},
   "outputs": [],
   "source": [
    "l.extend(\"Harshit Dawar\")"
   ]
  },
  {
   "cell_type": "code",
   "execution_count": 12,
   "id": "5ed07a39-04dc-4abb-b327-e71bdaa02412",
   "metadata": {},
   "outputs": [
    {
     "data": {
      "text/plain": [
       "[10,\n",
       " 1,\n",
       " [9, 10, 11, 12, 13],\n",
       " 2,\n",
       " 3,\n",
       " 8,\n",
       " 4,\n",
       " 5,\n",
       " 'Harshit Dawar',\n",
       " 'H',\n",
       " 'a',\n",
       " 'r',\n",
       " 's',\n",
       " 'h',\n",
       " 'i',\n",
       " 't',\n",
       " ' ',\n",
       " 'D',\n",
       " 'a',\n",
       " 'w',\n",
       " 'a',\n",
       " 'r']"
      ]
     },
     "execution_count": 12,
     "metadata": {},
     "output_type": "execute_result"
    }
   ],
   "source": [
    "l"
   ]
  },
  {
   "cell_type": "markdown",
   "id": "7aaab9e2-2a35-4a6a-8ef5-e1e90c80e1ca",
   "metadata": {},
   "source": [
    "## EDA : Exploratory Data Analysis"
   ]
  },
  {
   "cell_type": "code",
   "execution_count": 13,
   "id": "3f637594-668c-40c3-ab27-3dcf78654f50",
   "metadata": {},
   "outputs": [],
   "source": [
    "import pandas as pd\n",
    "import matplotlib.pyplot as plt"
   ]
  },
  {
   "cell_type": "code",
   "execution_count": 14,
   "id": "ef81c475-130b-45af-9930-745cc0fa1e78",
   "metadata": {},
   "outputs": [],
   "source": [
    "data = pd.read_csv(\"Olympics.csv\")"
   ]
  },
  {
   "cell_type": "code",
   "execution_count": 15,
   "id": "52a551f0-6c9c-473b-8713-2418eb07c4c6",
   "metadata": {},
   "outputs": [
    {
     "data": {
      "text/html": [
       "<div>\n",
       "<style scoped>\n",
       "    .dataframe tbody tr th:only-of-type {\n",
       "        vertical-align: middle;\n",
       "    }\n",
       "\n",
       "    .dataframe tbody tr th {\n",
       "        vertical-align: top;\n",
       "    }\n",
       "\n",
       "    .dataframe thead th {\n",
       "        text-align: right;\n",
       "    }\n",
       "</style>\n",
       "<table border=\"1\" class=\"dataframe\">\n",
       "  <thead>\n",
       "    <tr style=\"text-align: right;\">\n",
       "      <th></th>\n",
       "      <th>Name</th>\n",
       "      <th>Sex</th>\n",
       "      <th>Age</th>\n",
       "      <th>Height</th>\n",
       "      <th>Weight</th>\n",
       "      <th>Team</th>\n",
       "      <th>Year</th>\n",
       "      <th>Season</th>\n",
       "      <th>Host_City</th>\n",
       "      <th>Host_Country</th>\n",
       "      <th>Sport</th>\n",
       "      <th>Event</th>\n",
       "      <th>GDP_Per_Capita_Constant_LCU_Value</th>\n",
       "      <th>Representing_Host</th>\n",
       "      <th>Avg_Temp</th>\n",
       "      <th>Medal</th>\n",
       "    </tr>\n",
       "  </thead>\n",
       "  <tbody>\n",
       "    <tr>\n",
       "      <th>0</th>\n",
       "      <td>Andreea Aanei</td>\n",
       "      <td>F</td>\n",
       "      <td>22.0</td>\n",
       "      <td>170.0</td>\n",
       "      <td>125.0</td>\n",
       "      <td>Romania</td>\n",
       "      <td>2016</td>\n",
       "      <td>Summer</td>\n",
       "      <td>Rio de Janeiro</td>\n",
       "      <td>Brazil</td>\n",
       "      <td>Weightlifting</td>\n",
       "      <td>Weightlifting Women's Super-Heavyweight</td>\n",
       "      <td>20450.34567</td>\n",
       "      <td>0</td>\n",
       "      <td>8.8</td>\n",
       "      <td>0</td>\n",
       "    </tr>\n",
       "    <tr>\n",
       "      <th>1</th>\n",
       "      <td>Nstor Abad Sanjun</td>\n",
       "      <td>M</td>\n",
       "      <td>23.0</td>\n",
       "      <td>167.0</td>\n",
       "      <td>64.0</td>\n",
       "      <td>Spain</td>\n",
       "      <td>2016</td>\n",
       "      <td>Summer</td>\n",
       "      <td>Rio de Janeiro</td>\n",
       "      <td>Brazil</td>\n",
       "      <td>Gymnastics</td>\n",
       "      <td>Gymnastics Men's Individual All-Around</td>\n",
       "      <td>23788.15345</td>\n",
       "      <td>0</td>\n",
       "      <td>13.3</td>\n",
       "      <td>0</td>\n",
       "    </tr>\n",
       "    <tr>\n",
       "      <th>2</th>\n",
       "      <td>Nstor Abad Sanjun</td>\n",
       "      <td>M</td>\n",
       "      <td>23.0</td>\n",
       "      <td>167.0</td>\n",
       "      <td>64.0</td>\n",
       "      <td>Spain</td>\n",
       "      <td>2016</td>\n",
       "      <td>Summer</td>\n",
       "      <td>Rio de Janeiro</td>\n",
       "      <td>Brazil</td>\n",
       "      <td>Gymnastics</td>\n",
       "      <td>Gymnastics Men's Floor Exercise</td>\n",
       "      <td>23788.15345</td>\n",
       "      <td>0</td>\n",
       "      <td>13.3</td>\n",
       "      <td>0</td>\n",
       "    </tr>\n",
       "    <tr>\n",
       "      <th>3</th>\n",
       "      <td>Nstor Abad Sanjun</td>\n",
       "      <td>M</td>\n",
       "      <td>23.0</td>\n",
       "      <td>167.0</td>\n",
       "      <td>64.0</td>\n",
       "      <td>Spain</td>\n",
       "      <td>2016</td>\n",
       "      <td>Summer</td>\n",
       "      <td>Rio de Janeiro</td>\n",
       "      <td>Brazil</td>\n",
       "      <td>Gymnastics</td>\n",
       "      <td>Gymnastics Men's Parallel Bars</td>\n",
       "      <td>23788.15345</td>\n",
       "      <td>0</td>\n",
       "      <td>13.3</td>\n",
       "      <td>0</td>\n",
       "    </tr>\n",
       "    <tr>\n",
       "      <th>4</th>\n",
       "      <td>Nstor Abad Sanjun</td>\n",
       "      <td>M</td>\n",
       "      <td>23.0</td>\n",
       "      <td>167.0</td>\n",
       "      <td>64.0</td>\n",
       "      <td>Spain</td>\n",
       "      <td>2016</td>\n",
       "      <td>Summer</td>\n",
       "      <td>Rio de Janeiro</td>\n",
       "      <td>Brazil</td>\n",
       "      <td>Gymnastics</td>\n",
       "      <td>Gymnastics Men's Horizontal Bar</td>\n",
       "      <td>23788.15345</td>\n",
       "      <td>0</td>\n",
       "      <td>13.3</td>\n",
       "      <td>0</td>\n",
       "    </tr>\n",
       "    <tr>\n",
       "      <th>...</th>\n",
       "      <td>...</td>\n",
       "      <td>...</td>\n",
       "      <td>...</td>\n",
       "      <td>...</td>\n",
       "      <td>...</td>\n",
       "      <td>...</td>\n",
       "      <td>...</td>\n",
       "      <td>...</td>\n",
       "      <td>...</td>\n",
       "      <td>...</td>\n",
       "      <td>...</td>\n",
       "      <td>...</td>\n",
       "      <td>...</td>\n",
       "      <td>...</td>\n",
       "      <td>...</td>\n",
       "      <td>...</td>\n",
       "    </tr>\n",
       "    <tr>\n",
       "      <th>202611</th>\n",
       "      <td>Edward uawnik</td>\n",
       "      <td>M</td>\n",
       "      <td>27.0</td>\n",
       "      <td>165.0</td>\n",
       "      <td>73.0</td>\n",
       "      <td>Poland</td>\n",
       "      <td>1960</td>\n",
       "      <td>Summer</td>\n",
       "      <td>Roma</td>\n",
       "      <td>Italy</td>\n",
       "      <td>Wrestling</td>\n",
       "      <td>Wrestling Men's Welterweight, Greco-Roman</td>\n",
       "      <td>17933.37528</td>\n",
       "      <td>0</td>\n",
       "      <td>7.85</td>\n",
       "      <td>0</td>\n",
       "    </tr>\n",
       "    <tr>\n",
       "      <th>202612</th>\n",
       "      <td>Nicolaus \"Nic\" Zwetnow</td>\n",
       "      <td>M</td>\n",
       "      <td>31.0</td>\n",
       "      <td>181.0</td>\n",
       "      <td>70.0</td>\n",
       "      <td>Norway</td>\n",
       "      <td>1960</td>\n",
       "      <td>Summer</td>\n",
       "      <td>Roma</td>\n",
       "      <td>Italy</td>\n",
       "      <td>Shooting</td>\n",
       "      <td>Shooting Men's Rapid-Fire Pistol, 25 metres</td>\n",
       "      <td>140125.29960</td>\n",
       "      <td>0</td>\n",
       "      <td>1.5</td>\n",
       "      <td>0</td>\n",
       "    </tr>\n",
       "    <tr>\n",
       "      <th>202613</th>\n",
       "      <td>Edward \"Eddie\" Zwier</td>\n",
       "      <td>M</td>\n",
       "      <td>26.0</td>\n",
       "      <td>176.0</td>\n",
       "      <td>75.0</td>\n",
       "      <td>Netherlands</td>\n",
       "      <td>1960</td>\n",
       "      <td>Summer</td>\n",
       "      <td>Roma</td>\n",
       "      <td>Italy</td>\n",
       "      <td>Hockey</td>\n",
       "      <td>Hockey Men's Hockey</td>\n",
       "      <td>12348.41289</td>\n",
       "      <td>0</td>\n",
       "      <td>9.25</td>\n",
       "      <td>0</td>\n",
       "    </tr>\n",
       "    <tr>\n",
       "      <th>202614</th>\n",
       "      <td>Petronella Veronica Maria \"Nel\" Zwier</td>\n",
       "      <td>F</td>\n",
       "      <td>23.0</td>\n",
       "      <td>174.0</td>\n",
       "      <td>70.0</td>\n",
       "      <td>Netherlands</td>\n",
       "      <td>1960</td>\n",
       "      <td>Summer</td>\n",
       "      <td>Roma</td>\n",
       "      <td>Italy</td>\n",
       "      <td>Athletics</td>\n",
       "      <td>Athletics Women's High Jump</td>\n",
       "      <td>12348.41289</td>\n",
       "      <td>0</td>\n",
       "      <td>9.25</td>\n",
       "      <td>0</td>\n",
       "    </tr>\n",
       "    <tr>\n",
       "      <th>202615</th>\n",
       "      <td>Galina Ivanovna Zybina (-Fyodorova)</td>\n",
       "      <td>F</td>\n",
       "      <td>29.0</td>\n",
       "      <td>168.0</td>\n",
       "      <td>80.0</td>\n",
       "      <td>Russian Federation</td>\n",
       "      <td>1960</td>\n",
       "      <td>Summer</td>\n",
       "      <td>Roma</td>\n",
       "      <td>Italy</td>\n",
       "      <td>Athletics</td>\n",
       "      <td>Athletics Women's Shot Put</td>\n",
       "      <td>513807.08890</td>\n",
       "      <td>0</td>\n",
       "      <td>−5.10</td>\n",
       "      <td>0</td>\n",
       "    </tr>\n",
       "  </tbody>\n",
       "</table>\n",
       "<p>202616 rows × 16 columns</p>\n",
       "</div>"
      ],
      "text/plain": [
       "                                         Name Sex   Age  Height  Weight  \\\n",
       "0                               Andreea Aanei   F  22.0   170.0   125.0   \n",
       "1                           Nstor Abad Sanjun   M  23.0   167.0    64.0   \n",
       "2                           Nstor Abad Sanjun   M  23.0   167.0    64.0   \n",
       "3                           Nstor Abad Sanjun   M  23.0   167.0    64.0   \n",
       "4                           Nstor Abad Sanjun   M  23.0   167.0    64.0   \n",
       "...                                       ...  ..   ...     ...     ...   \n",
       "202611                          Edward uawnik   M  27.0   165.0    73.0   \n",
       "202612                 Nicolaus \"Nic\" Zwetnow   M  31.0   181.0    70.0   \n",
       "202613                   Edward \"Eddie\" Zwier   M  26.0   176.0    75.0   \n",
       "202614  Petronella Veronica Maria \"Nel\" Zwier   F  23.0   174.0    70.0   \n",
       "202615    Galina Ivanovna Zybina (-Fyodorova)   F  29.0   168.0    80.0   \n",
       "\n",
       "                      Team  Year  Season       Host_City Host_Country  \\\n",
       "0                  Romania  2016  Summer  Rio de Janeiro       Brazil   \n",
       "1                    Spain  2016  Summer  Rio de Janeiro       Brazil   \n",
       "2                    Spain  2016  Summer  Rio de Janeiro       Brazil   \n",
       "3                    Spain  2016  Summer  Rio de Janeiro       Brazil   \n",
       "4                    Spain  2016  Summer  Rio de Janeiro       Brazil   \n",
       "...                    ...   ...     ...             ...          ...   \n",
       "202611              Poland  1960  Summer            Roma        Italy   \n",
       "202612              Norway  1960  Summer            Roma        Italy   \n",
       "202613         Netherlands  1960  Summer            Roma        Italy   \n",
       "202614         Netherlands  1960  Summer            Roma        Italy   \n",
       "202615  Russian Federation  1960  Summer            Roma        Italy   \n",
       "\n",
       "                Sport                                        Event  \\\n",
       "0       Weightlifting      Weightlifting Women's Super-Heavyweight   \n",
       "1          Gymnastics       Gymnastics Men's Individual All-Around   \n",
       "2          Gymnastics              Gymnastics Men's Floor Exercise   \n",
       "3          Gymnastics               Gymnastics Men's Parallel Bars   \n",
       "4          Gymnastics              Gymnastics Men's Horizontal Bar   \n",
       "...               ...                                          ...   \n",
       "202611      Wrestling    Wrestling Men's Welterweight, Greco-Roman   \n",
       "202612       Shooting  Shooting Men's Rapid-Fire Pistol, 25 metres   \n",
       "202613         Hockey                          Hockey Men's Hockey   \n",
       "202614      Athletics                  Athletics Women's High Jump   \n",
       "202615      Athletics                   Athletics Women's Shot Put   \n",
       "\n",
       "        GDP_Per_Capita_Constant_LCU_Value  Representing_Host Avg_Temp  Medal  \n",
       "0                             20450.34567                  0      8.8      0  \n",
       "1                             23788.15345                  0     13.3      0  \n",
       "2                             23788.15345                  0     13.3      0  \n",
       "3                             23788.15345                  0     13.3      0  \n",
       "4                             23788.15345                  0     13.3      0  \n",
       "...                                   ...                ...      ...    ...  \n",
       "202611                        17933.37528                  0     7.85      0  \n",
       "202612                       140125.29960                  0      1.5      0  \n",
       "202613                        12348.41289                  0     9.25      0  \n",
       "202614                        12348.41289                  0     9.25      0  \n",
       "202615                       513807.08890                  0    −5.10      0  \n",
       "\n",
       "[202616 rows x 16 columns]"
      ]
     },
     "execution_count": 15,
     "metadata": {},
     "output_type": "execute_result"
    }
   ],
   "source": [
    "data"
   ]
  },
  {
   "cell_type": "code",
   "execution_count": 16,
   "id": "c2dcfd96-59c0-4c3b-905b-dc8d5685d147",
   "metadata": {},
   "outputs": [
    {
     "data": {
      "text/plain": [
       "3241856"
      ]
     },
     "execution_count": 16,
     "metadata": {},
     "output_type": "execute_result"
    }
   ],
   "source": [
    "data.size"
   ]
  },
  {
   "cell_type": "code",
   "execution_count": 17,
   "id": "853f82e3-9fb7-40e9-86b1-3904e9273dad",
   "metadata": {},
   "outputs": [
    {
     "data": {
      "text/plain": [
       "(202616, 16)"
      ]
     },
     "execution_count": 17,
     "metadata": {},
     "output_type": "execute_result"
    }
   ],
   "source": [
    "data.shape"
   ]
  },
  {
   "cell_type": "code",
   "execution_count": 18,
   "id": "b01f4dda-9a3e-4fbe-8d2b-b425c3ce4940",
   "metadata": {},
   "outputs": [
    {
     "data": {
      "text/html": [
       "<div>\n",
       "<style scoped>\n",
       "    .dataframe tbody tr th:only-of-type {\n",
       "        vertical-align: middle;\n",
       "    }\n",
       "\n",
       "    .dataframe tbody tr th {\n",
       "        vertical-align: top;\n",
       "    }\n",
       "\n",
       "    .dataframe thead th {\n",
       "        text-align: right;\n",
       "    }\n",
       "</style>\n",
       "<table border=\"1\" class=\"dataframe\">\n",
       "  <thead>\n",
       "    <tr style=\"text-align: right;\">\n",
       "      <th></th>\n",
       "      <th>Name</th>\n",
       "      <th>Sex</th>\n",
       "      <th>Age</th>\n",
       "      <th>Height</th>\n",
       "      <th>Weight</th>\n",
       "      <th>Team</th>\n",
       "      <th>Year</th>\n",
       "      <th>Season</th>\n",
       "      <th>Host_City</th>\n",
       "      <th>Host_Country</th>\n",
       "      <th>Sport</th>\n",
       "      <th>Event</th>\n",
       "      <th>GDP_Per_Capita_Constant_LCU_Value</th>\n",
       "      <th>Representing_Host</th>\n",
       "      <th>Avg_Temp</th>\n",
       "      <th>Medal</th>\n",
       "    </tr>\n",
       "  </thead>\n",
       "  <tbody>\n",
       "    <tr>\n",
       "      <th>0</th>\n",
       "      <td>Andreea Aanei</td>\n",
       "      <td>F</td>\n",
       "      <td>22.0</td>\n",
       "      <td>170.0</td>\n",
       "      <td>125.0</td>\n",
       "      <td>Romania</td>\n",
       "      <td>2016</td>\n",
       "      <td>Summer</td>\n",
       "      <td>Rio de Janeiro</td>\n",
       "      <td>Brazil</td>\n",
       "      <td>Weightlifting</td>\n",
       "      <td>Weightlifting Women's Super-Heavyweight</td>\n",
       "      <td>20450.34567</td>\n",
       "      <td>0</td>\n",
       "      <td>8.8</td>\n",
       "      <td>0</td>\n",
       "    </tr>\n",
       "    <tr>\n",
       "      <th>1</th>\n",
       "      <td>Nstor Abad Sanjun</td>\n",
       "      <td>M</td>\n",
       "      <td>23.0</td>\n",
       "      <td>167.0</td>\n",
       "      <td>64.0</td>\n",
       "      <td>Spain</td>\n",
       "      <td>2016</td>\n",
       "      <td>Summer</td>\n",
       "      <td>Rio de Janeiro</td>\n",
       "      <td>Brazil</td>\n",
       "      <td>Gymnastics</td>\n",
       "      <td>Gymnastics Men's Individual All-Around</td>\n",
       "      <td>23788.15345</td>\n",
       "      <td>0</td>\n",
       "      <td>13.3</td>\n",
       "      <td>0</td>\n",
       "    </tr>\n",
       "    <tr>\n",
       "      <th>2</th>\n",
       "      <td>Nstor Abad Sanjun</td>\n",
       "      <td>M</td>\n",
       "      <td>23.0</td>\n",
       "      <td>167.0</td>\n",
       "      <td>64.0</td>\n",
       "      <td>Spain</td>\n",
       "      <td>2016</td>\n",
       "      <td>Summer</td>\n",
       "      <td>Rio de Janeiro</td>\n",
       "      <td>Brazil</td>\n",
       "      <td>Gymnastics</td>\n",
       "      <td>Gymnastics Men's Floor Exercise</td>\n",
       "      <td>23788.15345</td>\n",
       "      <td>0</td>\n",
       "      <td>13.3</td>\n",
       "      <td>0</td>\n",
       "    </tr>\n",
       "    <tr>\n",
       "      <th>3</th>\n",
       "      <td>Nstor Abad Sanjun</td>\n",
       "      <td>M</td>\n",
       "      <td>23.0</td>\n",
       "      <td>167.0</td>\n",
       "      <td>64.0</td>\n",
       "      <td>Spain</td>\n",
       "      <td>2016</td>\n",
       "      <td>Summer</td>\n",
       "      <td>Rio de Janeiro</td>\n",
       "      <td>Brazil</td>\n",
       "      <td>Gymnastics</td>\n",
       "      <td>Gymnastics Men's Parallel Bars</td>\n",
       "      <td>23788.15345</td>\n",
       "      <td>0</td>\n",
       "      <td>13.3</td>\n",
       "      <td>0</td>\n",
       "    </tr>\n",
       "    <tr>\n",
       "      <th>4</th>\n",
       "      <td>Nstor Abad Sanjun</td>\n",
       "      <td>M</td>\n",
       "      <td>23.0</td>\n",
       "      <td>167.0</td>\n",
       "      <td>64.0</td>\n",
       "      <td>Spain</td>\n",
       "      <td>2016</td>\n",
       "      <td>Summer</td>\n",
       "      <td>Rio de Janeiro</td>\n",
       "      <td>Brazil</td>\n",
       "      <td>Gymnastics</td>\n",
       "      <td>Gymnastics Men's Horizontal Bar</td>\n",
       "      <td>23788.15345</td>\n",
       "      <td>0</td>\n",
       "      <td>13.3</td>\n",
       "      <td>0</td>\n",
       "    </tr>\n",
       "  </tbody>\n",
       "</table>\n",
       "</div>"
      ],
      "text/plain": [
       "                Name Sex   Age  Height  Weight     Team  Year  Season  \\\n",
       "0      Andreea Aanei   F  22.0   170.0   125.0  Romania  2016  Summer   \n",
       "1  Nstor Abad Sanjun   M  23.0   167.0    64.0    Spain  2016  Summer   \n",
       "2  Nstor Abad Sanjun   M  23.0   167.0    64.0    Spain  2016  Summer   \n",
       "3  Nstor Abad Sanjun   M  23.0   167.0    64.0    Spain  2016  Summer   \n",
       "4  Nstor Abad Sanjun   M  23.0   167.0    64.0    Spain  2016  Summer   \n",
       "\n",
       "        Host_City Host_Country          Sport  \\\n",
       "0  Rio de Janeiro       Brazil  Weightlifting   \n",
       "1  Rio de Janeiro       Brazil     Gymnastics   \n",
       "2  Rio de Janeiro       Brazil     Gymnastics   \n",
       "3  Rio de Janeiro       Brazil     Gymnastics   \n",
       "4  Rio de Janeiro       Brazil     Gymnastics   \n",
       "\n",
       "                                     Event  GDP_Per_Capita_Constant_LCU_Value  \\\n",
       "0  Weightlifting Women's Super-Heavyweight                        20450.34567   \n",
       "1   Gymnastics Men's Individual All-Around                        23788.15345   \n",
       "2          Gymnastics Men's Floor Exercise                        23788.15345   \n",
       "3           Gymnastics Men's Parallel Bars                        23788.15345   \n",
       "4          Gymnastics Men's Horizontal Bar                        23788.15345   \n",
       "\n",
       "   Representing_Host Avg_Temp  Medal  \n",
       "0                  0      8.8      0  \n",
       "1                  0     13.3      0  \n",
       "2                  0     13.3      0  \n",
       "3                  0     13.3      0  \n",
       "4                  0     13.3      0  "
      ]
     },
     "execution_count": 18,
     "metadata": {},
     "output_type": "execute_result"
    }
   ],
   "source": [
    "data.head()"
   ]
  },
  {
   "cell_type": "code",
   "execution_count": 20,
   "id": "b36aa552-42be-4885-9c27-1de1627025cd",
   "metadata": {},
   "outputs": [
    {
     "data": {
      "text/html": [
       "<div>\n",
       "<style scoped>\n",
       "    .dataframe tbody tr th:only-of-type {\n",
       "        vertical-align: middle;\n",
       "    }\n",
       "\n",
       "    .dataframe tbody tr th {\n",
       "        vertical-align: top;\n",
       "    }\n",
       "\n",
       "    .dataframe thead th {\n",
       "        text-align: right;\n",
       "    }\n",
       "</style>\n",
       "<table border=\"1\" class=\"dataframe\">\n",
       "  <thead>\n",
       "    <tr style=\"text-align: right;\">\n",
       "      <th></th>\n",
       "      <th>Age</th>\n",
       "      <th>Height</th>\n",
       "      <th>Weight</th>\n",
       "      <th>Year</th>\n",
       "      <th>GDP_Per_Capita_Constant_LCU_Value</th>\n",
       "      <th>Representing_Host</th>\n",
       "      <th>Medal</th>\n",
       "    </tr>\n",
       "  </thead>\n",
       "  <tbody>\n",
       "    <tr>\n",
       "      <th>count</th>\n",
       "      <td>202616.000000</td>\n",
       "      <td>202615.000000</td>\n",
       "      <td>202615.000000</td>\n",
       "      <td>202616.000000</td>\n",
       "      <td>2.026160e+05</td>\n",
       "      <td>202616.000000</td>\n",
       "      <td>202616.000000</td>\n",
       "    </tr>\n",
       "    <tr>\n",
       "      <th>mean</th>\n",
       "      <td>24.966480</td>\n",
       "      <td>175.298414</td>\n",
       "      <td>70.576962</td>\n",
       "      <td>1992.252626</td>\n",
       "      <td>1.016396e+06</td>\n",
       "      <td>0.057977</td>\n",
       "      <td>0.268345</td>\n",
       "    </tr>\n",
       "    <tr>\n",
       "      <th>std</th>\n",
       "      <td>5.472054</td>\n",
       "      <td>10.483912</td>\n",
       "      <td>14.263095</td>\n",
       "      <td>16.518691</td>\n",
       "      <td>5.839650e+06</td>\n",
       "      <td>0.233700</td>\n",
       "      <td>0.743768</td>\n",
       "    </tr>\n",
       "    <tr>\n",
       "      <th>min</th>\n",
       "      <td>11.000000</td>\n",
       "      <td>127.000000</td>\n",
       "      <td>25.000000</td>\n",
       "      <td>1960.000000</td>\n",
       "      <td>2.321763e+02</td>\n",
       "      <td>0.000000</td>\n",
       "      <td>0.000000</td>\n",
       "    </tr>\n",
       "    <tr>\n",
       "      <th>25%</th>\n",
       "      <td>21.000000</td>\n",
       "      <td>168.000000</td>\n",
       "      <td>60.000000</td>\n",
       "      <td>1980.000000</td>\n",
       "      <td>1.671118e+04</td>\n",
       "      <td>0.000000</td>\n",
       "      <td>0.000000</td>\n",
       "    </tr>\n",
       "    <tr>\n",
       "      <th>50%</th>\n",
       "      <td>24.000000</td>\n",
       "      <td>175.000000</td>\n",
       "      <td>70.000000</td>\n",
       "      <td>1996.000000</td>\n",
       "      <td>3.046682e+04</td>\n",
       "      <td>0.000000</td>\n",
       "      <td>0.000000</td>\n",
       "    </tr>\n",
       "    <tr>\n",
       "      <th>75%</th>\n",
       "      <td>28.000000</td>\n",
       "      <td>182.000000</td>\n",
       "      <td>79.000000</td>\n",
       "      <td>2006.000000</td>\n",
       "      <td>1.329136e+05</td>\n",
       "      <td>0.000000</td>\n",
       "      <td>0.000000</td>\n",
       "    </tr>\n",
       "    <tr>\n",
       "      <th>max</th>\n",
       "      <td>71.000000</td>\n",
       "      <td>226.000000</td>\n",
       "      <td>214.000000</td>\n",
       "      <td>2016.000000</td>\n",
       "      <td>1.313372e+08</td>\n",
       "      <td>1.000000</td>\n",
       "      <td>3.000000</td>\n",
       "    </tr>\n",
       "  </tbody>\n",
       "</table>\n",
       "</div>"
      ],
      "text/plain": [
       "                 Age         Height         Weight           Year  \\\n",
       "count  202616.000000  202615.000000  202615.000000  202616.000000   \n",
       "mean       24.966480     175.298414      70.576962    1992.252626   \n",
       "std         5.472054      10.483912      14.263095      16.518691   \n",
       "min        11.000000     127.000000      25.000000    1960.000000   \n",
       "25%        21.000000     168.000000      60.000000    1980.000000   \n",
       "50%        24.000000     175.000000      70.000000    1996.000000   \n",
       "75%        28.000000     182.000000      79.000000    2006.000000   \n",
       "max        71.000000     226.000000     214.000000    2016.000000   \n",
       "\n",
       "       GDP_Per_Capita_Constant_LCU_Value  Representing_Host          Medal  \n",
       "count                       2.026160e+05      202616.000000  202616.000000  \n",
       "mean                        1.016396e+06           0.057977       0.268345  \n",
       "std                         5.839650e+06           0.233700       0.743768  \n",
       "min                         2.321763e+02           0.000000       0.000000  \n",
       "25%                         1.671118e+04           0.000000       0.000000  \n",
       "50%                         3.046682e+04           0.000000       0.000000  \n",
       "75%                         1.329136e+05           0.000000       0.000000  \n",
       "max                         1.313372e+08           1.000000       3.000000  "
      ]
     },
     "execution_count": 20,
     "metadata": {},
     "output_type": "execute_result"
    }
   ],
   "source": [
    "data.describe()"
   ]
  },
  {
   "cell_type": "code",
   "execution_count": 21,
   "id": "9a4e956b-7b67-45ce-a003-d51eec9229b4",
   "metadata": {},
   "outputs": [
    {
     "data": {
      "text/plain": [
       "(array([6.3030e+03, 6.4217e+04, 8.8592e+04, 3.3266e+04, 7.2770e+03,\n",
       "        2.0240e+03, 6.8100e+02, 1.8500e+02, 5.1000e+01, 2.0000e+01]),\n",
       " array([11., 17., 23., 29., 35., 41., 47., 53., 59., 65., 71.]),\n",
       " <BarContainer object of 10 artists>)"
      ]
     },
     "execution_count": 21,
     "metadata": {},
     "output_type": "execute_result"
    },
    {
     "data": {
      "image/png": "[encoded data removed]",
      "text/plain": [
       "<Figure size 640x480 with 1 Axes>"
      ]
     },
     "metadata": {},
     "output_type": "display_data"
    }
   ],
   "source": [
    "plt.hist(data[\"Age\"])"
   ]
  },
  {
   "cell_type": "code",
   "execution_count": 24,
   "id": "83f64a24-ecca-4ed3-abac-9143f9eeb2c8",
   "metadata": {},
   "outputs": [
    {
     "data": {
      "text/plain": [
       "2"
      ]
     },
     "execution_count": 24,
     "metadata": {},
     "output_type": "execute_result"
    }
   ],
   "source": [
    "data.isna().sum().sum()"
   ]
  },
  {
   "cell_type": "code",
   "execution_count": 25,
   "id": "490bd4af-a770-4e25-956a-6e3ba2dd855f",
   "metadata": {},
   "outputs": [
    {
     "data": {
      "text/plain": [
       "Name                                 0\n",
       "Sex                                  0\n",
       "Age                                  0\n",
       "Height                               1\n",
       "Weight                               1\n",
       "Team                                 0\n",
       "Year                                 0\n",
       "Season                               0\n",
       "Host_City                            0\n",
       "Host_Country                         0\n",
       "Sport                                0\n",
       "Event                                0\n",
       "GDP_Per_Capita_Constant_LCU_Value    0\n",
       "Representing_Host                    0\n",
       "Avg_Temp                             0\n",
       "Medal                                0\n",
       "dtype: int64"
      ]
     },
     "execution_count": 25,
     "metadata": {},
     "output_type": "execute_result"
    }
   ],
   "source": [
    "data.isna().sum()"
   ]
  },
  {
   "cell_type": "code",
   "execution_count": 31,
   "id": "57d22273-fce8-4644-a40a-fb6ef2ae9224",
   "metadata": {},
   "outputs": [],
   "source": [
    "data[\"Height\"] = data[\"Height\"].fillna(data[\"Height\"].median())"
   ]
  },
  {
   "cell_type": "code",
   "execution_count": 34,
   "id": "3de0f820-3015-46e3-9ad3-2292b2b29486",
   "metadata": {},
   "outputs": [
    {
     "data": {
      "text/plain": [
       "Name                                 0\n",
       "Sex                                  0\n",
       "Age                                  0\n",
       "Height                               0\n",
       "Weight                               1\n",
       "Team                                 0\n",
       "Year                                 0\n",
       "Season                               0\n",
       "Host_City                            0\n",
       "Host_Country                         0\n",
       "Sport                                0\n",
       "Event                                0\n",
       "GDP_Per_Capita_Constant_LCU_Value    0\n",
       "Representing_Host                    0\n",
       "Avg_Temp                             0\n",
       "Medal                                0\n",
       "dtype: int64"
      ]
     },
     "execution_count": 34,
     "metadata": {},
     "output_type": "execute_result"
    }
   ],
   "source": [
    "data.isna().sum()"
   ]
  },
  {
   "cell_type": "code",
   "execution_count": 35,
   "id": "f8be92d1-c79a-43ac-95b0-6ca240c7c40d",
   "metadata": {},
   "outputs": [],
   "source": [
    "data[\"Weight\"].fillna(data[\"Weight\"].median(), inplace=True)"
   ]
  },
  {
   "cell_type": "code",
   "execution_count": 40,
   "id": "d4058869-408a-46d6-be82-de9cd0ad3edc",
   "metadata": {},
   "outputs": [
    {
     "data": {
      "text/plain": [
       "array([0, 0, 0, 0, 0, 0, 0, 0, 0, 0, 0, 0, 0, 0, 0, 0], dtype=int64)"
      ]
     },
     "execution_count": 40,
     "metadata": {},
     "output_type": "execute_result"
    }
   ],
   "source": [
    "data.isna().sum().values"
   ]
  },
  {
   "cell_type": "code",
   "execution_count": 43,
   "id": "474e38a2-b1a4-4488-9b42-5c099741ebf4",
   "metadata": {},
   "outputs": [
    {
     "name": "stderr",
     "output_type": "stream",
     "text": [
      "C:\\Users\\harsh\\AppData\\Local\\Temp\\ipykernel_33616\\237489463.py:1: FutureWarning: The default value of numeric_only in DataFrame.corr is deprecated. In a future version, it will default to False. Select only valid columns or specify the value of numeric_only to silence this warning.\n",
      "  data.corr(method = \"kendall\")\n"
     ]
    },
    {
     "data": {
      "text/html": [
       "<div>\n",
       "<style scoped>\n",
       "    .dataframe tbody tr th:only-of-type {\n",
       "        vertical-align: middle;\n",
       "    }\n",
       "\n",
       "    .dataframe tbody tr th {\n",
       "        vertical-align: top;\n",
       "    }\n",
       "\n",
       "    .dataframe thead th {\n",
       "        text-align: right;\n",
       "    }\n",
       "</style>\n",
       "<table border=\"1\" class=\"dataframe\">\n",
       "  <thead>\n",
       "    <tr style=\"text-align: right;\">\n",
       "      <th></th>\n",
       "      <th>Age</th>\n",
       "      <th>Height</th>\n",
       "      <th>Weight</th>\n",
       "      <th>Year</th>\n",
       "      <th>GDP_Per_Capita_Constant_LCU_Value</th>\n",
       "      <th>Representing_Host</th>\n",
       "      <th>Medal</th>\n",
       "    </tr>\n",
       "  </thead>\n",
       "  <tbody>\n",
       "    <tr>\n",
       "      <th>Age</th>\n",
       "      <td>1.000000</td>\n",
       "      <td>0.107774</td>\n",
       "      <td>0.154971</td>\n",
       "      <td>0.100497</td>\n",
       "      <td>0.025115</td>\n",
       "      <td>-0.004901</td>\n",
       "      <td>0.037969</td>\n",
       "    </tr>\n",
       "    <tr>\n",
       "      <th>Height</th>\n",
       "      <td>0.107774</td>\n",
       "      <td>1.000000</td>\n",
       "      <td>0.654495</td>\n",
       "      <td>0.037036</td>\n",
       "      <td>-0.015714</td>\n",
       "      <td>-0.001972</td>\n",
       "      <td>0.063638</td>\n",
       "    </tr>\n",
       "    <tr>\n",
       "      <th>Weight</th>\n",
       "      <td>0.154971</td>\n",
       "      <td>0.654495</td>\n",
       "      <td>1.000000</td>\n",
       "      <td>0.009788</td>\n",
       "      <td>-0.020014</td>\n",
       "      <td>0.001020</td>\n",
       "      <td>0.064098</td>\n",
       "    </tr>\n",
       "    <tr>\n",
       "      <th>Year</th>\n",
       "      <td>0.100497</td>\n",
       "      <td>0.037036</td>\n",
       "      <td>0.009788</td>\n",
       "      <td>1.000000</td>\n",
       "      <td>0.153509</td>\n",
       "      <td>-0.018694</td>\n",
       "      <td>0.013766</td>\n",
       "    </tr>\n",
       "    <tr>\n",
       "      <th>GDP_Per_Capita_Constant_LCU_Value</th>\n",
       "      <td>0.025115</td>\n",
       "      <td>-0.015714</td>\n",
       "      <td>-0.020014</td>\n",
       "      <td>0.153509</td>\n",
       "      <td>1.000000</td>\n",
       "      <td>0.011810</td>\n",
       "      <td>0.048633</td>\n",
       "    </tr>\n",
       "    <tr>\n",
       "      <th>Representing_Host</th>\n",
       "      <td>-0.004901</td>\n",
       "      <td>-0.001972</td>\n",
       "      <td>0.001020</td>\n",
       "      <td>-0.018694</td>\n",
       "      <td>0.011810</td>\n",
       "      <td>1.000000</td>\n",
       "      <td>0.061291</td>\n",
       "    </tr>\n",
       "    <tr>\n",
       "      <th>Medal</th>\n",
       "      <td>0.037969</td>\n",
       "      <td>0.063638</td>\n",
       "      <td>0.064098</td>\n",
       "      <td>0.013766</td>\n",
       "      <td>0.048633</td>\n",
       "      <td>0.061291</td>\n",
       "      <td>1.000000</td>\n",
       "    </tr>\n",
       "  </tbody>\n",
       "</table>\n",
       "</div>"
      ],
      "text/plain": [
       "                                        Age    Height    Weight      Year  \\\n",
       "Age                                1.000000  0.107774  0.154971  0.100497   \n",
       "Height                             0.107774  1.000000  0.654495  0.037036   \n",
       "Weight                             0.154971  0.654495  1.000000  0.009788   \n",
       "Year                               0.100497  0.037036  0.009788  1.000000   \n",
       "GDP_Per_Capita_Constant_LCU_Value  0.025115 -0.015714 -0.020014  0.153509   \n",
       "Representing_Host                 -0.004901 -0.001972  0.001020 -0.018694   \n",
       "Medal                              0.037969  0.063638  0.064098  0.013766   \n",
       "\n",
       "                                   GDP_Per_Capita_Constant_LCU_Value  \\\n",
       "Age                                                         0.025115   \n",
       "Height                                                     -0.015714   \n",
       "Weight                                                     -0.020014   \n",
       "Year                                                        0.153509   \n",
       "GDP_Per_Capita_Constant_LCU_Value                           1.000000   \n",
       "Representing_Host                                           0.011810   \n",
       "Medal                                                       0.048633   \n",
       "\n",
       "                                   Representing_Host     Medal  \n",
       "Age                                        -0.004901  0.037969  \n",
       "Height                                     -0.001972  0.063638  \n",
       "Weight                                      0.001020  0.064098  \n",
       "Year                                       -0.018694  0.013766  \n",
       "GDP_Per_Capita_Constant_LCU_Value           0.011810  0.048633  \n",
       "Representing_Host                           1.000000  0.061291  \n",
       "Medal                                       0.061291  1.000000  "
      ]
     },
     "execution_count": 43,
     "metadata": {},
     "output_type": "execute_result"
    }
   ],
   "source": [
    "data.corr(method = \"kendall\")"
   ]
  },
  {
   "cell_type": "code",
   "execution_count": 63,
   "id": "6c06cc32-7594-4093-9042-e54aef23f1f1",
   "metadata": {},
   "outputs": [
    {
     "data": {
      "image/png": "[encoded data removed]",
      "text/plain": [
       "<Figure size 1000x700 with 1 Axes>"
      ]
     },
     "metadata": {},
     "output_type": "display_data"
    }
   ],
   "source": [
    "plt.figure(figsize = (10,7))\n",
    "plt.boxplot(data[\"Age\"], vert = False, showmeans = True, manage_ticks = False)\n",
    "plt.xlabel(\"Age\")\n",
    "plt.title(\"Box Plot for Age\")\n",
    "plt.grid()\n",
    "plt.show()"
   ]
  },
  {
   "cell_type": "code",
   "execution_count": 52,
   "id": "c2514a67-f937-452b-b50e-da26bad182d4",
   "metadata": {},
   "outputs": [
    {
     "data": {
      "text/plain": [
       "24.0"
      ]
     },
     "execution_count": 52,
     "metadata": {},
     "output_type": "execute_result"
    }
   ],
   "source": [
    "data[\"Age\"].median()"
   ]
  },
  {
   "cell_type": "code",
   "execution_count": 53,
   "id": "d11b95ec-8600-486b-907e-440a2a3f98c5",
   "metadata": {},
   "outputs": [
    {
     "data": {
      "text/plain": [
       "24.966480090424003"
      ]
     },
     "execution_count": 53,
     "metadata": {},
     "output_type": "execute_result"
    }
   ],
   "source": [
    "data[\"Age\"].mean()"
   ]
  },
  {
   "cell_type": "code",
   "execution_count": 57,
   "id": "4132d481-913a-4796-8911-b790d820d97a",
   "metadata": {},
   "outputs": [
    {
     "data": {
      "text/plain": [
       "(array([  197.,  6106., 20548., 27103., 51048., 42850., 20295., 17905.,\n",
       "         8402.,  3777.]),\n",
       " array([11. , 13.7, 16.4, 19.1, 21.8, 24.5, 27.2, 29.9, 32.6, 35.3, 38. ]),\n",
       " <BarContainer object of 10 artists>)"
      ]
     },
     "execution_count": 57,
     "metadata": {},
     "output_type": "execute_result"
    },
    {
     "data": {
      "image/png": "[encoded data removed]",
      "text/plain": [
       "<Figure size 640x480 with 1 Axes>"
      ]
     },
     "metadata": {},
     "output_type": "display_data"
    }
   ],
   "source": [
    "plt.hist(data[data[\"Age\"] <= 38][\"Age\"])"
   ]
  },
  {
   "cell_type": "code",
   "execution_count": 58,
   "id": "95a75ae2-bd00-4834-8e33-7415318c8c94",
   "metadata": {},
   "outputs": [
    {
     "data": {
      "text/html": [
       "<div>\n",
       "<style scoped>\n",
       "    .dataframe tbody tr th:only-of-type {\n",
       "        vertical-align: middle;\n",
       "    }\n",
       "\n",
       "    .dataframe tbody tr th {\n",
       "        vertical-align: top;\n",
       "    }\n",
       "\n",
       "    .dataframe thead th {\n",
       "        text-align: right;\n",
       "    }\n",
       "</style>\n",
       "<table border=\"1\" class=\"dataframe\">\n",
       "  <thead>\n",
       "    <tr style=\"text-align: right;\">\n",
       "      <th></th>\n",
       "      <th>Name</th>\n",
       "      <th>Sex</th>\n",
       "      <th>Age</th>\n",
       "      <th>Height</th>\n",
       "      <th>Weight</th>\n",
       "      <th>Team</th>\n",
       "      <th>Year</th>\n",
       "      <th>Season</th>\n",
       "      <th>Host_City</th>\n",
       "      <th>Host_Country</th>\n",
       "      <th>Sport</th>\n",
       "      <th>Event</th>\n",
       "      <th>GDP_Per_Capita_Constant_LCU_Value</th>\n",
       "      <th>Representing_Host</th>\n",
       "      <th>Avg_Temp</th>\n",
       "      <th>Medal</th>\n",
       "    </tr>\n",
       "  </thead>\n",
       "  <tbody>\n",
       "    <tr>\n",
       "      <th>0</th>\n",
       "      <td>Andreea Aanei</td>\n",
       "      <td>F</td>\n",
       "      <td>22.0</td>\n",
       "      <td>170.0</td>\n",
       "      <td>125.0</td>\n",
       "      <td>Romania</td>\n",
       "      <td>2016</td>\n",
       "      <td>Summer</td>\n",
       "      <td>Rio de Janeiro</td>\n",
       "      <td>Brazil</td>\n",
       "      <td>Weightlifting</td>\n",
       "      <td>Weightlifting Women's Super-Heavyweight</td>\n",
       "      <td>20450.34567</td>\n",
       "      <td>0</td>\n",
       "      <td>8.8</td>\n",
       "      <td>0</td>\n",
       "    </tr>\n",
       "    <tr>\n",
       "      <th>1</th>\n",
       "      <td>Nstor Abad Sanjun</td>\n",
       "      <td>M</td>\n",
       "      <td>23.0</td>\n",
       "      <td>167.0</td>\n",
       "      <td>64.0</td>\n",
       "      <td>Spain</td>\n",
       "      <td>2016</td>\n",
       "      <td>Summer</td>\n",
       "      <td>Rio de Janeiro</td>\n",
       "      <td>Brazil</td>\n",
       "      <td>Gymnastics</td>\n",
       "      <td>Gymnastics Men's Individual All-Around</td>\n",
       "      <td>23788.15345</td>\n",
       "      <td>0</td>\n",
       "      <td>13.3</td>\n",
       "      <td>0</td>\n",
       "    </tr>\n",
       "    <tr>\n",
       "      <th>2</th>\n",
       "      <td>Nstor Abad Sanjun</td>\n",
       "      <td>M</td>\n",
       "      <td>23.0</td>\n",
       "      <td>167.0</td>\n",
       "      <td>64.0</td>\n",
       "      <td>Spain</td>\n",
       "      <td>2016</td>\n",
       "      <td>Summer</td>\n",
       "      <td>Rio de Janeiro</td>\n",
       "      <td>Brazil</td>\n",
       "      <td>Gymnastics</td>\n",
       "      <td>Gymnastics Men's Floor Exercise</td>\n",
       "      <td>23788.15345</td>\n",
       "      <td>0</td>\n",
       "      <td>13.3</td>\n",
       "      <td>0</td>\n",
       "    </tr>\n",
       "    <tr>\n",
       "      <th>3</th>\n",
       "      <td>Nstor Abad Sanjun</td>\n",
       "      <td>M</td>\n",
       "      <td>23.0</td>\n",
       "      <td>167.0</td>\n",
       "      <td>64.0</td>\n",
       "      <td>Spain</td>\n",
       "      <td>2016</td>\n",
       "      <td>Summer</td>\n",
       "      <td>Rio de Janeiro</td>\n",
       "      <td>Brazil</td>\n",
       "      <td>Gymnastics</td>\n",
       "      <td>Gymnastics Men's Parallel Bars</td>\n",
       "      <td>23788.15345</td>\n",
       "      <td>0</td>\n",
       "      <td>13.3</td>\n",
       "      <td>0</td>\n",
       "    </tr>\n",
       "    <tr>\n",
       "      <th>4</th>\n",
       "      <td>Nstor Abad Sanjun</td>\n",
       "      <td>M</td>\n",
       "      <td>23.0</td>\n",
       "      <td>167.0</td>\n",
       "      <td>64.0</td>\n",
       "      <td>Spain</td>\n",
       "      <td>2016</td>\n",
       "      <td>Summer</td>\n",
       "      <td>Rio de Janeiro</td>\n",
       "      <td>Brazil</td>\n",
       "      <td>Gymnastics</td>\n",
       "      <td>Gymnastics Men's Horizontal Bar</td>\n",
       "      <td>23788.15345</td>\n",
       "      <td>0</td>\n",
       "      <td>13.3</td>\n",
       "      <td>0</td>\n",
       "    </tr>\n",
       "  </tbody>\n",
       "</table>\n",
       "</div>"
      ],
      "text/plain": [
       "                Name Sex   Age  Height  Weight     Team  Year  Season  \\\n",
       "0      Andreea Aanei   F  22.0   170.0   125.0  Romania  2016  Summer   \n",
       "1  Nstor Abad Sanjun   M  23.0   167.0    64.0    Spain  2016  Summer   \n",
       "2  Nstor Abad Sanjun   M  23.0   167.0    64.0    Spain  2016  Summer   \n",
       "3  Nstor Abad Sanjun   M  23.0   167.0    64.0    Spain  2016  Summer   \n",
       "4  Nstor Abad Sanjun   M  23.0   167.0    64.0    Spain  2016  Summer   \n",
       "\n",
       "        Host_City Host_Country          Sport  \\\n",
       "0  Rio de Janeiro       Brazil  Weightlifting   \n",
       "1  Rio de Janeiro       Brazil     Gymnastics   \n",
       "2  Rio de Janeiro       Brazil     Gymnastics   \n",
       "3  Rio de Janeiro       Brazil     Gymnastics   \n",
       "4  Rio de Janeiro       Brazil     Gymnastics   \n",
       "\n",
       "                                     Event  GDP_Per_Capita_Constant_LCU_Value  \\\n",
       "0  Weightlifting Women's Super-Heavyweight                        20450.34567   \n",
       "1   Gymnastics Men's Individual All-Around                        23788.15345   \n",
       "2          Gymnastics Men's Floor Exercise                        23788.15345   \n",
       "3           Gymnastics Men's Parallel Bars                        23788.15345   \n",
       "4          Gymnastics Men's Horizontal Bar                        23788.15345   \n",
       "\n",
       "   Representing_Host Avg_Temp  Medal  \n",
       "0                  0      8.8      0  \n",
       "1                  0     13.3      0  \n",
       "2                  0     13.3      0  \n",
       "3                  0     13.3      0  \n",
       "4                  0     13.3      0  "
      ]
     },
     "execution_count": 58,
     "metadata": {},
     "output_type": "execute_result"
    }
   ],
   "source": [
    "data.head()"
   ]
  },
  {
   "cell_type": "code",
   "execution_count": 60,
   "id": "2a4dba14-eb97-4387-9913-0f557b9fae1d",
   "metadata": {},
   "outputs": [
    {
     "data": {
      "image/png": "[encoded data removed]",
      "text/plain": [
       "<Figure size 1000x700 with 1 Axes>"
      ]
     },
     "metadata": {},
     "output_type": "display_data"
    }
   ],
   "source": [
    "plt.figure(figsize = (10,7))\n",
    "plt.scatter(data[\"Age\"], data[\"Height\"])\n",
    "plt.xlabel(\"Age\")\n",
    "plt.ylabel(\"Height\")\n",
    "plt.title(\"Age VS Height\")\n",
    "plt.grid()\n",
    "plt.show()"
   ]
  },
  {
   "cell_type": "code",
   "execution_count": 64,
   "id": "b9b39ed8-f955-4677-ad6c-23bba32b6168",
   "metadata": {},
   "outputs": [],
   "source": [
    "import seaborn as sns"
   ]
  },
  {
   "cell_type": "code",
   "execution_count": 66,
   "id": "5591f2e4-d810-43e5-bcf4-9fb4bdeb107d",
   "metadata": {},
   "outputs": [
    {
     "data": {
      "image/png": "[encoded data removed]",
      "text/plain": [
       "<Figure size 1000x700 with 1 Axes>"
      ]
     },
     "metadata": {},
     "output_type": "display_data"
    }
   ],
   "source": [
    "plt.figure(figsize = (10, 7))\n",
    "sns.boxplot(data = data, x = data[\"Age\"])\n",
    "plt.show()"
   ]
  },
  {
   "cell_type": "code",
   "execution_count": 70,
   "id": "a4a03f5d-25ce-4972-b1b0-134ee4ebaf66",
   "metadata": {},
   "outputs": [
    {
     "data": {
      "image/png": "[encoded data removed]",
      "text/plain": [
       "<Figure size 1000x700 with 1 Axes>"
      ]
     },
     "metadata": {},
     "output_type": "display_data"
    }
   ],
   "source": [
    "plt.figure(figsize = (10, 7))\n",
    "sns.histplot(x = \"Age\", data = data, kde=True)\n",
    "plt.show()"
   ]
  },
  {
   "cell_type": "code",
   "execution_count": 72,
   "id": "bea576cf-cd67-48ea-8430-23c1571df1d6",
   "metadata": {},
   "outputs": [
    {
     "data": {
      "text/html": [
       "<div>\n",
       "<style scoped>\n",
       "    .dataframe tbody tr th:only-of-type {\n",
       "        vertical-align: middle;\n",
       "    }\n",
       "\n",
       "    .dataframe tbody tr th {\n",
       "        vertical-align: top;\n",
       "    }\n",
       "\n",
       "    .dataframe thead th {\n",
       "        text-align: right;\n",
       "    }\n",
       "</style>\n",
       "<table border=\"1\" class=\"dataframe\">\n",
       "  <thead>\n",
       "    <tr style=\"text-align: right;\">\n",
       "      <th></th>\n",
       "      <th>Name</th>\n",
       "      <th>Sex</th>\n",
       "      <th>Age</th>\n",
       "      <th>Height</th>\n",
       "      <th>Weight</th>\n",
       "      <th>Team</th>\n",
       "      <th>Year</th>\n",
       "      <th>Season</th>\n",
       "      <th>Host_City</th>\n",
       "      <th>Host_Country</th>\n",
       "      <th>Sport</th>\n",
       "      <th>Event</th>\n",
       "      <th>GDP_Per_Capita_Constant_LCU_Value</th>\n",
       "      <th>Representing_Host</th>\n",
       "      <th>Avg_Temp</th>\n",
       "      <th>Medal</th>\n",
       "    </tr>\n",
       "  </thead>\n",
       "  <tbody>\n",
       "    <tr>\n",
       "      <th>0</th>\n",
       "      <td>Andreea Aanei</td>\n",
       "      <td>F</td>\n",
       "      <td>22.0</td>\n",
       "      <td>170.0</td>\n",
       "      <td>125.0</td>\n",
       "      <td>Romania</td>\n",
       "      <td>2016</td>\n",
       "      <td>Summer</td>\n",
       "      <td>Rio de Janeiro</td>\n",
       "      <td>Brazil</td>\n",
       "      <td>Weightlifting</td>\n",
       "      <td>Weightlifting Women's Super-Heavyweight</td>\n",
       "      <td>20450.34567</td>\n",
       "      <td>0</td>\n",
       "      <td>8.8</td>\n",
       "      <td>0</td>\n",
       "    </tr>\n",
       "    <tr>\n",
       "      <th>1</th>\n",
       "      <td>Nstor Abad Sanjun</td>\n",
       "      <td>M</td>\n",
       "      <td>23.0</td>\n",
       "      <td>167.0</td>\n",
       "      <td>64.0</td>\n",
       "      <td>Spain</td>\n",
       "      <td>2016</td>\n",
       "      <td>Summer</td>\n",
       "      <td>Rio de Janeiro</td>\n",
       "      <td>Brazil</td>\n",
       "      <td>Gymnastics</td>\n",
       "      <td>Gymnastics Men's Individual All-Around</td>\n",
       "      <td>23788.15345</td>\n",
       "      <td>0</td>\n",
       "      <td>13.3</td>\n",
       "      <td>0</td>\n",
       "    </tr>\n",
       "    <tr>\n",
       "      <th>2</th>\n",
       "      <td>Nstor Abad Sanjun</td>\n",
       "      <td>M</td>\n",
       "      <td>23.0</td>\n",
       "      <td>167.0</td>\n",
       "      <td>64.0</td>\n",
       "      <td>Spain</td>\n",
       "      <td>2016</td>\n",
       "      <td>Summer</td>\n",
       "      <td>Rio de Janeiro</td>\n",
       "      <td>Brazil</td>\n",
       "      <td>Gymnastics</td>\n",
       "      <td>Gymnastics Men's Floor Exercise</td>\n",
       "      <td>23788.15345</td>\n",
       "      <td>0</td>\n",
       "      <td>13.3</td>\n",
       "      <td>0</td>\n",
       "    </tr>\n",
       "    <tr>\n",
       "      <th>3</th>\n",
       "      <td>Nstor Abad Sanjun</td>\n",
       "      <td>M</td>\n",
       "      <td>23.0</td>\n",
       "      <td>167.0</td>\n",
       "      <td>64.0</td>\n",
       "      <td>Spain</td>\n",
       "      <td>2016</td>\n",
       "      <td>Summer</td>\n",
       "      <td>Rio de Janeiro</td>\n",
       "      <td>Brazil</td>\n",
       "      <td>Gymnastics</td>\n",
       "      <td>Gymnastics Men's Parallel Bars</td>\n",
       "      <td>23788.15345</td>\n",
       "      <td>0</td>\n",
       "      <td>13.3</td>\n",
       "      <td>0</td>\n",
       "    </tr>\n",
       "    <tr>\n",
       "      <th>4</th>\n",
       "      <td>Nstor Abad Sanjun</td>\n",
       "      <td>M</td>\n",
       "      <td>23.0</td>\n",
       "      <td>167.0</td>\n",
       "      <td>64.0</td>\n",
       "      <td>Spain</td>\n",
       "      <td>2016</td>\n",
       "      <td>Summer</td>\n",
       "      <td>Rio de Janeiro</td>\n",
       "      <td>Brazil</td>\n",
       "      <td>Gymnastics</td>\n",
       "      <td>Gymnastics Men's Horizontal Bar</td>\n",
       "      <td>23788.15345</td>\n",
       "      <td>0</td>\n",
       "      <td>13.3</td>\n",
       "      <td>0</td>\n",
       "    </tr>\n",
       "  </tbody>\n",
       "</table>\n",
       "</div>"
      ],
      "text/plain": [
       "                Name Sex   Age  Height  Weight     Team  Year  Season  \\\n",
       "0      Andreea Aanei   F  22.0   170.0   125.0  Romania  2016  Summer   \n",
       "1  Nstor Abad Sanjun   M  23.0   167.0    64.0    Spain  2016  Summer   \n",
       "2  Nstor Abad Sanjun   M  23.0   167.0    64.0    Spain  2016  Summer   \n",
       "3  Nstor Abad Sanjun   M  23.0   167.0    64.0    Spain  2016  Summer   \n",
       "4  Nstor Abad Sanjun   M  23.0   167.0    64.0    Spain  2016  Summer   \n",
       "\n",
       "        Host_City Host_Country          Sport  \\\n",
       "0  Rio de Janeiro       Brazil  Weightlifting   \n",
       "1  Rio de Janeiro       Brazil     Gymnastics   \n",
       "2  Rio de Janeiro       Brazil     Gymnastics   \n",
       "3  Rio de Janeiro       Brazil     Gymnastics   \n",
       "4  Rio de Janeiro       Brazil     Gymnastics   \n",
       "\n",
       "                                     Event  GDP_Per_Capita_Constant_LCU_Value  \\\n",
       "0  Weightlifting Women's Super-Heavyweight                        20450.34567   \n",
       "1   Gymnastics Men's Individual All-Around                        23788.15345   \n",
       "2          Gymnastics Men's Floor Exercise                        23788.15345   \n",
       "3           Gymnastics Men's Parallel Bars                        23788.15345   \n",
       "4          Gymnastics Men's Horizontal Bar                        23788.15345   \n",
       "\n",
       "   Representing_Host Avg_Temp  Medal  \n",
       "0                  0      8.8      0  \n",
       "1                  0     13.3      0  \n",
       "2                  0     13.3      0  \n",
       "3                  0     13.3      0  \n",
       "4                  0     13.3      0  "
      ]
     },
     "execution_count": 72,
     "metadata": {},
     "output_type": "execute_result"
    }
   ],
   "source": [
    "data.head()"
   ]
  },
  {
   "cell_type": "code",
   "execution_count": 73,
   "id": "f755fa84-d851-43f5-80e2-14de037c6211",
   "metadata": {},
   "outputs": [],
   "source": [
    "filtered_data = data[data[\"Sport\"] == \"Gymnastics\"]"
   ]
  },
  {
   "cell_type": "code",
   "execution_count": 75,
   "id": "bfeee1a5-6381-409b-bb8e-0b8a33c98ed2",
   "metadata": {},
   "outputs": [
    {
     "data": {
      "text/html": [
       "<div>\n",
       "<style scoped>\n",
       "    .dataframe tbody tr th:only-of-type {\n",
       "        vertical-align: middle;\n",
       "    }\n",
       "\n",
       "    .dataframe tbody tr th {\n",
       "        vertical-align: top;\n",
       "    }\n",
       "\n",
       "    .dataframe thead th {\n",
       "        text-align: right;\n",
       "    }\n",
       "</style>\n",
       "<table border=\"1\" class=\"dataframe\">\n",
       "  <thead>\n",
       "    <tr style=\"text-align: right;\">\n",
       "      <th></th>\n",
       "      <th>Name</th>\n",
       "      <th>Sex</th>\n",
       "      <th>Age</th>\n",
       "      <th>Height</th>\n",
       "      <th>Weight</th>\n",
       "      <th>Team</th>\n",
       "      <th>Year</th>\n",
       "      <th>Season</th>\n",
       "      <th>Host_City</th>\n",
       "      <th>Host_Country</th>\n",
       "      <th>Sport</th>\n",
       "      <th>Event</th>\n",
       "      <th>GDP_Per_Capita_Constant_LCU_Value</th>\n",
       "      <th>Representing_Host</th>\n",
       "      <th>Avg_Temp</th>\n",
       "      <th>Medal</th>\n",
       "    </tr>\n",
       "  </thead>\n",
       "  <tbody>\n",
       "    <tr>\n",
       "      <th>1</th>\n",
       "      <td>Nstor Abad Sanjun</td>\n",
       "      <td>M</td>\n",
       "      <td>23.0</td>\n",
       "      <td>167.0</td>\n",
       "      <td>64.0</td>\n",
       "      <td>Spain</td>\n",
       "      <td>2016</td>\n",
       "      <td>Summer</td>\n",
       "      <td>Rio de Janeiro</td>\n",
       "      <td>Brazil</td>\n",
       "      <td>Gymnastics</td>\n",
       "      <td>Gymnastics Men's Individual All-Around</td>\n",
       "      <td>23788.15345</td>\n",
       "      <td>0</td>\n",
       "      <td>13.3</td>\n",
       "      <td>0</td>\n",
       "    </tr>\n",
       "    <tr>\n",
       "      <th>2</th>\n",
       "      <td>Nstor Abad Sanjun</td>\n",
       "      <td>M</td>\n",
       "      <td>23.0</td>\n",
       "      <td>167.0</td>\n",
       "      <td>64.0</td>\n",
       "      <td>Spain</td>\n",
       "      <td>2016</td>\n",
       "      <td>Summer</td>\n",
       "      <td>Rio de Janeiro</td>\n",
       "      <td>Brazil</td>\n",
       "      <td>Gymnastics</td>\n",
       "      <td>Gymnastics Men's Floor Exercise</td>\n",
       "      <td>23788.15345</td>\n",
       "      <td>0</td>\n",
       "      <td>13.3</td>\n",
       "      <td>0</td>\n",
       "    </tr>\n",
       "    <tr>\n",
       "      <th>3</th>\n",
       "      <td>Nstor Abad Sanjun</td>\n",
       "      <td>M</td>\n",
       "      <td>23.0</td>\n",
       "      <td>167.0</td>\n",
       "      <td>64.0</td>\n",
       "      <td>Spain</td>\n",
       "      <td>2016</td>\n",
       "      <td>Summer</td>\n",
       "      <td>Rio de Janeiro</td>\n",
       "      <td>Brazil</td>\n",
       "      <td>Gymnastics</td>\n",
       "      <td>Gymnastics Men's Parallel Bars</td>\n",
       "      <td>23788.15345</td>\n",
       "      <td>0</td>\n",
       "      <td>13.3</td>\n",
       "      <td>0</td>\n",
       "    </tr>\n",
       "    <tr>\n",
       "      <th>4</th>\n",
       "      <td>Nstor Abad Sanjun</td>\n",
       "      <td>M</td>\n",
       "      <td>23.0</td>\n",
       "      <td>167.0</td>\n",
       "      <td>64.0</td>\n",
       "      <td>Spain</td>\n",
       "      <td>2016</td>\n",
       "      <td>Summer</td>\n",
       "      <td>Rio de Janeiro</td>\n",
       "      <td>Brazil</td>\n",
       "      <td>Gymnastics</td>\n",
       "      <td>Gymnastics Men's Horizontal Bar</td>\n",
       "      <td>23788.15345</td>\n",
       "      <td>0</td>\n",
       "      <td>13.3</td>\n",
       "      <td>0</td>\n",
       "    </tr>\n",
       "    <tr>\n",
       "      <th>5</th>\n",
       "      <td>Nstor Abad Sanjun</td>\n",
       "      <td>M</td>\n",
       "      <td>23.0</td>\n",
       "      <td>167.0</td>\n",
       "      <td>64.0</td>\n",
       "      <td>Spain</td>\n",
       "      <td>2016</td>\n",
       "      <td>Summer</td>\n",
       "      <td>Rio de Janeiro</td>\n",
       "      <td>Brazil</td>\n",
       "      <td>Gymnastics</td>\n",
       "      <td>Gymnastics Men's Rings</td>\n",
       "      <td>23788.15345</td>\n",
       "      <td>0</td>\n",
       "      <td>13.3</td>\n",
       "      <td>0</td>\n",
       "    </tr>\n",
       "  </tbody>\n",
       "</table>\n",
       "</div>"
      ],
      "text/plain": [
       "                Name Sex   Age  Height  Weight   Team  Year  Season  \\\n",
       "1  Nstor Abad Sanjun   M  23.0   167.0    64.0  Spain  2016  Summer   \n",
       "2  Nstor Abad Sanjun   M  23.0   167.0    64.0  Spain  2016  Summer   \n",
       "3  Nstor Abad Sanjun   M  23.0   167.0    64.0  Spain  2016  Summer   \n",
       "4  Nstor Abad Sanjun   M  23.0   167.0    64.0  Spain  2016  Summer   \n",
       "5  Nstor Abad Sanjun   M  23.0   167.0    64.0  Spain  2016  Summer   \n",
       "\n",
       "        Host_City Host_Country       Sport  \\\n",
       "1  Rio de Janeiro       Brazil  Gymnastics   \n",
       "2  Rio de Janeiro       Brazil  Gymnastics   \n",
       "3  Rio de Janeiro       Brazil  Gymnastics   \n",
       "4  Rio de Janeiro       Brazil  Gymnastics   \n",
       "5  Rio de Janeiro       Brazil  Gymnastics   \n",
       "\n",
       "                                    Event  GDP_Per_Capita_Constant_LCU_Value  \\\n",
       "1  Gymnastics Men's Individual All-Around                        23788.15345   \n",
       "2         Gymnastics Men's Floor Exercise                        23788.15345   \n",
       "3          Gymnastics Men's Parallel Bars                        23788.15345   \n",
       "4         Gymnastics Men's Horizontal Bar                        23788.15345   \n",
       "5                  Gymnastics Men's Rings                        23788.15345   \n",
       "\n",
       "   Representing_Host Avg_Temp  Medal  \n",
       "1                  0     13.3      0  \n",
       "2                  0     13.3      0  \n",
       "3                  0     13.3      0  \n",
       "4                  0     13.3      0  \n",
       "5                  0     13.3      0  "
      ]
     },
     "execution_count": 75,
     "metadata": {},
     "output_type": "execute_result"
    }
   ],
   "source": [
    "filtered_data.head()"
   ]
  },
  {
   "cell_type": "code",
   "execution_count": 90,
   "id": "3ab6c127-dbd7-42da-b121-dd51060d1b0b",
   "metadata": {},
   "outputs": [],
   "source": [
    "color_list = [\"red\" if data[\"Sex\"][i] == \"M\" else \"green\" for i in range(len(filtered_data[\"Sex\"]))]"
   ]
  },
  {
   "cell_type": "code",
   "execution_count": null,
   "id": "cbb670b2-5664-404c-8635-2a88df55b0bc",
   "metadata": {},
   "outputs": [],
   "source": [
    "color_list = []\n",
    "for i in range(len(filtered_data[\"Sex\"])):\n",
    "     if data[\"Sex\"][i] == \"M\":\n",
    "         color_list.append(\"red\")\n",
    "     else:\n",
    "         color_list.append(\"green\")"
   ]
  },
  {
   "cell_type": "code",
   "execution_count": 119,
   "id": "cd14d2f8-6ae2-4438-bf51-0671b7345111",
   "metadata": {},
   "outputs": [
    {
     "data": {
      "image/png": "[encoded data removed]",
      "text/plain": [
       "<Figure size 800x560 with 1 Axes>"
      ]
     },
     "metadata": {},
     "output_type": "display_data"
    }
   ],
   "source": [
    "plt.figure(figsize = (10, 7))\n",
    "plt.style.use(\"seaborn\")\n",
    "sns.scatterplot(data = filtered_data, x = \"Height\", y = \"Weight\", hue = \"Sex\", palette = {\"M\" : \"red\", \"F\" : \"green\"})\n",
    "plt.grid()\n",
    "# plt.legend(loc = \"lower right\")\n",
    "plt.show()"
   ]
  },
  {
   "cell_type": "code",
   "execution_count": 113,
   "id": "dcfa7639-f321-4e7c-a36e-9084a284539c",
   "metadata": {},
   "outputs": [
    {
     "data": {
      "text/plain": [
       "['Solarize_Light2',\n",
       " '_classic_test_patch',\n",
       " '_mpl-gallery',\n",
       " '_mpl-gallery-nogrid',\n",
       " 'bmh',\n",
       " 'classic',\n",
       " 'dark_background',\n",
       " 'fast',\n",
       " 'fivethirtyeight',\n",
       " 'ggplot',\n",
       " 'grayscale',\n",
       " 'seaborn',\n",
       " 'seaborn-bright',\n",
       " 'seaborn-colorblind',\n",
       " 'seaborn-dark',\n",
       " 'seaborn-dark-palette',\n",
       " 'seaborn-darkgrid',\n",
       " 'seaborn-deep',\n",
       " 'seaborn-muted',\n",
       " 'seaborn-notebook',\n",
       " 'seaborn-paper',\n",
       " 'seaborn-pastel',\n",
       " 'seaborn-poster',\n",
       " 'seaborn-talk',\n",
       " 'seaborn-ticks',\n",
       " 'seaborn-white',\n",
       " 'seaborn-whitegrid',\n",
       " 'tableau-colorblind10']"
      ]
     },
     "execution_count": 113,
     "metadata": {},
     "output_type": "execute_result"
    }
   ],
   "source": [
    "plt.style.available"
   ]
  },
  {
   "cell_type": "code",
   "execution_count": null,
   "id": "4c1a2b09-bdcc-4e85-8965-bafe6e9381f0",
   "metadata": {},
   "outputs": [],
   "source": []
  }
 ],
 "metadata": {
  "kernelspec": {
   "display_name": "Python 3 (ipykernel)",
   "language": "python",
   "name": "python3"
  },
  "language_info": {
   "codemirror_mode": {
    "name": "ipython",
    "version": 3
   },
   "file_extension": ".py",
   "mimetype": "text/x-python",
   "name": "python",
   "nbconvert_exporter": "python",
   "pygments_lexer": "ipython3",
   "version": "3.10.9"
  }
 },
 "nbformat": 4,
 "nbformat_minor": 5
}
